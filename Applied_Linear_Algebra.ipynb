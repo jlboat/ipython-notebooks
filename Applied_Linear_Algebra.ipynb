{
 "cells": [
  {
   "cell_type": "code",
   "execution_count": 1,
   "metadata": {
    "collapsed": true,
    "nbpresent": {
     "id": "b06790f0-d8d8-4755-b874-81ed5ea8d6aa"
    }
   },
   "outputs": [],
   "source": [
    "import numpy as np\n",
    "import matplotlib.pyplot as plt\n",
    "import seaborn as sns"
   ]
  },
  {
   "cell_type": "markdown",
   "metadata": {},
   "source": [
    "# A review of important LINEAR ALGEBRA topics"
   ]
  },
  {
   "cell_type": "markdown",
   "metadata": {},
   "source": [
    "# This notebook is based off of:\n",
    "\n",
    "## Applied Linear Algebra Refresher Course\n",
    "## by Karianne Bergen kbergen@stanford.edu\n",
    "## Institute for Computational and Mathematical Engineering, Stanford University\n",
    "## September 16-19, 2013"
   ]
  },
  {
   "cell_type": "code",
   "execution_count": 2,
   "metadata": {
    "collapsed": true,
    "nbpresent": {
     "id": "a4d8a5c2-9b64-4f19-b2e8-4ba2cc2ec05f"
    }
   },
   "outputs": [],
   "source": [
    "# Examples of variable types\n",
    "\n",
    "scalar = 4\n",
    "vector1 = np.array([2,8,4,6])\n",
    "vector2 = np.array([9,3,7,5])\n",
    "matrix1 = np.matrix([[1,9,6],\n",
    "                    [8,2,4],\n",
    "                    [7,5,1]])\n",
    "matrix2 = np.matrix([[5,3,8],\n",
    "                    [5,3,9],\n",
    "                    [4,6,0]])"
   ]
  },
  {
   "cell_type": "code",
   "execution_count": 3,
   "metadata": {
    "nbpresent": {
     "id": "31be2a82-55a8-4c4d-827d-90c80dbd2e2f"
    }
   },
   "outputs": [
    {
     "data": {
      "text/plain": [
       "array([ 8, 32, 16, 24])"
      ]
     },
     "execution_count": 3,
     "metadata": {},
     "output_type": "execute_result"
    }
   ],
   "source": [
    "# Scalar Multiplication\n",
    "\n",
    "scalar * vector1"
   ]
  },
  {
   "cell_type": "code",
   "execution_count": 4,
   "metadata": {
    "nbpresent": {
     "id": "56da9470-c524-4377-89e3-639db5f3ac00"
    }
   },
   "outputs": [
    {
     "name": "stdout",
     "output_type": "stream",
     "text": [
      "[11 11 11 11]\n",
      "[-7  5 -3  1]\n"
     ]
    }
   ],
   "source": [
    "# Vector addition/subtraction\n",
    "\n",
    "print(vector1 + vector2)\n",
    "\n",
    "print(vector1 - vector2)"
   ]
  },
  {
   "cell_type": "code",
   "execution_count": 5,
   "metadata": {
    "nbpresent": {
     "id": "d9349ab8-ab7f-4800-aff4-99322bfca3c1"
    }
   },
   "outputs": [
    {
     "data": {
      "text/plain": [
       "100"
      ]
     },
     "execution_count": 5,
     "metadata": {},
     "output_type": "execute_result"
    }
   ],
   "source": [
    "# Inner product (dot product or scalar product)\n",
    "\n",
    "vector1.dot(vector2)"
   ]
  },
  {
   "cell_type": "code",
   "execution_count": 6,
   "metadata": {
    "nbpresent": {
     "id": "8806681c-a60c-4d52-a651-5b0fed00abc1"
    }
   },
   "outputs": [
    {
     "data": {
      "text/plain": [
       "True"
      ]
     },
     "execution_count": 6,
     "metadata": {},
     "output_type": "execute_result"
    }
   ],
   "source": [
    "# 3 Vector norm properties\n",
    "# 1. They are scale invariant\n",
    "\n",
    "# According to Wikipedia:\n",
    "# scale invariance is a feature of objects or laws \n",
    "# that do not change if scales of length, energy, \n",
    "# or other variables, are multiplied by a common factor, \n",
    "# thus represent a universality\n",
    "\n",
    "# Vector norms give us a way to measure how 'big' a vector is\n",
    "\n",
    "# The choice of norm is application specific\n",
    "\n",
    "( scalar * np.linalg.norm(vector1) )==( np.linalg.norm(vector1*scalar) )"
   ]
  },
  {
   "cell_type": "code",
   "execution_count": 7,
   "metadata": {
    "nbpresent": {
     "id": "3def484d-4722-4d24-a08b-e3a974c73ab2"
    }
   },
   "outputs": [
    {
     "name": "stdout",
     "output_type": "stream",
     "text": [
      "True\n",
      "True\n"
     ]
    }
   ],
   "source": [
    "# 2. Vector norms satisfy the Triangle inequality\n",
    "# Norm(vector1 + vector2) <= Norm(vector1) + Norm(vector2)\n",
    "# Note, Norm here is 2-norm\n",
    "print(np.linalg.norm(vector1 + vector2) <= np.linalg.norm(vector1) + np.linalg.norm(vector2))\n",
    "\n",
    "# Another example \n",
    "vector2D_1 = np.array([4,2])\n",
    "vector2D_2 = np.array([3,1])\n",
    "print(np.linalg.norm(vector2D_1 + vector2D_2) <= np.linalg.norm(vector2D_1) + np.linalg.norm(vector2D_2))"
   ]
  },
  {
   "cell_type": "code",
   "execution_count": 8,
   "metadata": {},
   "outputs": [
    {
     "data": {
      "image/png": "[encoded data removed]",
      "text/plain": [
       "<matplotlib.figure.Figure at 0x1a139c9cf8>"
      ]
     },
     "metadata": {},
     "output_type": "display_data"
    },
    {
     "name": "stdout",
     "output_type": "stream",
     "text": [
      "Where, \n",
      "\tvector 1 (red) norm = 7.21\n",
      "\tvector 2 (blue) norm = 7.87\n",
      "\tTheir addition norm = 9.90\n",
      "\n",
      "Thus, Norm(vector1 + vector2) [9.90] <= Norm(vector1) + Norm(vector2) [15.09]\n"
     ]
    }
   ],
   "source": [
    "# In graphical form that looks like this:\n",
    "vector2D_1 = np.array([0,0,4,6])\n",
    "vector2D_2 = np.array([4,6,3,1])\n",
    "vector_addition = np.array([0,0,7,7])\n",
    "all_vectors = [vector2D_1, vector2D_2, vector_addition]\n",
    "X, Y, U, V = zip(*all_vectors)\n",
    "\n",
    "plt.figure()\n",
    "ax = plt.gca()\n",
    "ax.quiver(X, Y, U, V, np.arctan2(V, U), angles='xy', scale_units='xy', scale=1, color='g')\n",
    "ax.set_xlim([-1, 10])\n",
    "ax.set_ylim([-1, 10])\n",
    "plt.draw()\n",
    "plt.show()\n",
    "plt.close()\n",
    "\n",
    "print(\"Where, \\n\\tvector 1 (red) norm = {0:.2f}\\n\\tvector 2 (blue) norm = {1:.2f}\\n\\tTheir addition norm = {2:.2f}\".format(\n",
    "        np.linalg.norm(vector2D_1),\n",
    "        np.linalg.norm(vector2D_2),\n",
    "        np.linalg.norm(vector_addition))\n",
    "    )\n",
    "print(\"\\nThus, Norm(vector1 + vector2) [{0:.2f}] <= Norm(vector1) + Norm(vector2) [{1:.2f}]\".format(\n",
    "    np.linalg.norm(vector_addition),\n",
    "    np.linalg.norm(vector2D_1) + np.linalg.norm(vector2D_2)\n",
    "))"
   ]
  },
  {
   "cell_type": "code",
   "execution_count": 9,
   "metadata": {},
   "outputs": [
    {
     "data": {
      "text/plain": [
       "True"
      ]
     },
     "execution_count": 9,
     "metadata": {},
     "output_type": "execute_result"
    }
   ],
   "source": [
    "# 3. Vector norm satisfies positivity\n",
    "\n",
    "vector3 = np.array([0,0,0])\n",
    "all(vector3 == np.linalg.norm(vector3))"
   ]
  },
  {
   "cell_type": "code",
   "execution_count": 10,
   "metadata": {},
   "outputs": [
    {
     "name": "stdout",
     "output_type": "stream",
     "text": [
      "Vector = [2 8 4 6]\n",
      "\n",
      "1-norm\n",
      "\t 20\n",
      "\n",
      "2-norm (Euclidean)\n",
      "\t 10.9544511501\n",
      "\n",
      "Infinity-norm\n",
      "\t 8\n"
     ]
    }
   ],
   "source": [
    "# Type of vector norms\n",
    "\n",
    "print(\"Vector =\", vector1)\n",
    "\n",
    "# 1-norm\n",
    "print(\"\\n1-norm\")\n",
    "print(\"\\t\", sum(vector1))\n",
    "\n",
    "# 2-norm (Euclidean)\n",
    "print(\"\\n2-norm (Euclidean)\")\n",
    "print(\"\\t\", np.linalg.norm(vector1))\n",
    "\n",
    "# Infinity-norm (Euclidean)\n",
    "print(\"\\nInfinity-norm\")\n",
    "print(\"\\t\", np.linalg.norm(vector1, ord=np.Inf))"
   ]
  },
  {
   "cell_type": "markdown",
   "metadata": {},
   "source": [
    "### All of which are specific examples of the general p-norm\n",
    "# $||v||_p = (\\sum\\limits_{i=1}^{n} |v_i|^p)^{1/p}   , p \\ge 1$"
   ]
  },
  {
   "cell_type": "markdown",
   "metadata": {},
   "source": [
    "---------------------------------------"
   ]
  },
  {
   "cell_type": "markdown",
   "metadata": {},
   "source": [
    "## The inner product (dot product) satisfies the Cauchy-Schwartz inequality\n",
    "# $|x^T y| ≤ ||x||_2 · ||y||_2 $   for    $ x, y ∈ \\mathbb{R}^n$"
   ]
  },
  {
   "cell_type": "code",
   "execution_count": 11,
   "metadata": {},
   "outputs": [
    {
     "data": {
      "text/plain": [
       "True"
      ]
     },
     "execution_count": 11,
     "metadata": {},
     "output_type": "execute_result"
    }
   ],
   "source": [
    "# This is equal when vector 'y' is a scalar multiple of x, otherwise it is less than\n",
    "\n",
    "abs(vector1.dot(vector1*4))== np.linalg.norm(vector1) * np.linalg.norm(vector1*4)"
   ]
  },
  {
   "cell_type": "code",
   "execution_count": 12,
   "metadata": {},
   "outputs": [
    {
     "data": {
      "text/plain": [
       "0"
      ]
     },
     "execution_count": 12,
     "metadata": {},
     "output_type": "execute_result"
    }
   ],
   "source": [
    "# Inner product (dot product) and Orthogonality\n",
    "\n",
    "# 1. Orthogonal vectors have an inner product of zero\n",
    "vector4 = np.array([0,2])\n",
    "vector5 = np.array([4,0])\n",
    "\n",
    "vector4.dot(vector5)"
   ]
  },
  {
   "cell_type": "code",
   "execution_count": 13,
   "metadata": {},
   "outputs": [
    {
     "name": "stdout",
     "output_type": "stream",
     "text": [
      "Orthogonal vectors:\n",
      "\tVector 4 = [0 2]\n",
      "\tVector 5 = [4 0]\n",
      "\n",
      "Orthonormal vectors:\n",
      "\tVector 4 = [ 0.  1.]\n",
      "\tVector 5 = [ 1.  0.]\n",
      "\n",
      "Vector Norm:\n",
      "\tVector 4 = 1.0\n",
      "\tVector 5 = 1.0\n"
     ]
    }
   ],
   "source": [
    "# 2. Orthogonal vectors are orthonormal if both are normalized to length 1\n",
    "\n",
    "print(\"Orthogonal vectors:\")\n",
    "print(\"\\tVector 4 =\", vector4)\n",
    "print(\"\\tVector 5 =\", vector5)\n",
    "\n",
    "vector4 = vector4/np.linalg.norm(vector4)\n",
    "vector5 = vector5/np.linalg.norm(vector5)\n",
    "print(\"\\nOrthonormal vectors:\")\n",
    "print(\"\\tVector 4 =\", vector4)\n",
    "print(\"\\tVector 5 =\", vector5)\n",
    "\n",
    "print(\"\\nVector Norm:\")\n",
    "print(\"\\tVector 4 =\", np.linalg.norm(vector4))\n",
    "print(\"\\tVector 5 =\", np.linalg.norm(vector5))"
   ]
  },
  {
   "cell_type": "markdown",
   "metadata": {},
   "source": [
    "## 3. The orthogonal complement of a set of vectors $V$ , \n",
    "## denoted $V^⊥$, is the set of vectors $x$ such that $x^T v = 0, ∀v ∈ V$ ."
   ]
  },
  {
   "cell_type": "markdown",
   "metadata": {
    "collapsed": true
   },
   "source": [
    "---------------------------------------"
   ]
  },
  {
   "cell_type": "markdown",
   "metadata": {},
   "source": [
    "## The Inner Product (dot product) and Projections\n",
    "### The projection of $v$ onto $u$ \n",
    "# = $\\frac{u^Tv}{||u||} * \\frac{u}{||u||}$\n",
    "\n",
    "### If $u$ is normalized to unit length, $||u|| = 1$, this becomes:\n",
    "# = $(u^Tv)u$"
   ]
  },
  {
   "cell_type": "code",
   "execution_count": 14,
   "metadata": {},
   "outputs": [
    {
     "name": "stdout",
     "output_type": "stream",
     "text": [
      "Original matrix:\n",
      "[[1 9 6]\n",
      " [8 2 4]\n",
      " [7 5 1]]\n",
      "\n",
      "After scalar mult. by 4:\n",
      "[[ 4 36 24]\n",
      " [32  8 16]\n",
      " [28 20  4]]\n"
     ]
    }
   ],
   "source": [
    "# Scalar matrix multiplication\n",
    "\n",
    "print(\"Original matrix:\")\n",
    "print(matrix1)\n",
    "\n",
    "print(\"\\nAfter scalar mult. by 4:\")\n",
    "print(matrix1 * scalar)"
   ]
  },
  {
   "cell_type": "code",
   "execution_count": 15,
   "metadata": {},
   "outputs": [
    {
     "name": "stdout",
     "output_type": "stream",
     "text": [
      "Matrix 1\n",
      "[[1 9 6]\n",
      " [8 2 4]\n",
      " [7 5 1]]\n",
      "\n",
      "Matrix 2\n",
      "[[5 3 8]\n",
      " [5 3 9]\n",
      " [4 6 0]]\n",
      "\n",
      "Matrix 1 + Matrix 2\n",
      "[[ 6 12 14]\n",
      " [13  5 13]\n",
      " [11 11  1]]\n"
     ]
    }
   ],
   "source": [
    "# Matrix addition\n",
    "\n",
    "print(\"Matrix 1\")\n",
    "print(matrix1)\n",
    "print(\"\\nMatrix 2\")\n",
    "print(matrix2)\n",
    "print(\"\\nMatrix 1 + Matrix 2\")\n",
    "print(matrix1+matrix2)"
   ]
  },
  {
   "cell_type": "code",
   "execution_count": 16,
   "metadata": {},
   "outputs": [
    {
     "name": "stdout",
     "output_type": "stream",
     "text": [
      "Note, the shapes of the vectors and/or matrices is important.\n",
      "They must match (AxB)*(BxC):\n",
      "\t(2x3)*(3x4)\n",
      "\t(5x2)*(2x1)\n",
      "\n",
      "Matrix 1 (3x3)\n",
      "[[1 9 6]\n",
      " [8 2 4]\n",
      " [7 5 1]]\n",
      "\n",
      "Vector 6 (1x3)\n",
      "[1 2 3]\n",
      "\n",
      "Vector 6 * Matrix 1 (1x3)\n",
      "[[38 28 17]]\n"
     ]
    }
   ],
   "source": [
    "# Matrix-vector multiplication\n",
    "vector6 = np.array([1,2,3])\n",
    "print(\"Note, the shapes of the vectors and/or matrices is important.\")\n",
    "print(\"They must match (AxB)*(BxC):\\n\\t(2x3)*(3x4)\\n\\t(5x2)*(2x1)\")\n",
    "\n",
    "print(\"\\nMatrix 1 (3x3)\")\n",
    "print(matrix1)\n",
    "print(\"\\nVector 6 (1x3)\")\n",
    "print(vector6)\n",
    "print(\"\\nVector 6 * Matrix 1 (1x3)\")\n",
    "print(vector6 * matrix1)"
   ]
  },
  {
   "cell_type": "markdown",
   "metadata": {},
   "source": [
    "## Properties of Matrix-Matrix Multiplication\n",
    "### 1. Associative\n",
    "# $A(BC) = (AB)C$\n",
    "\n",
    "### 2. Distributive\n",
    "# $A(B+C) = AB + AC$\n",
    "\n",
    "### 3. NOT commutative\n",
    "# $AB \\ne BA$"
   ]
  },
  {
   "cell_type": "code",
   "execution_count": 17,
   "metadata": {},
   "outputs": [
    {
     "name": "stdout",
     "output_type": "stream",
     "text": [
      "Vector 1\n",
      "[2 8 4 6]\n",
      "\n",
      "Vector 2\n",
      "9\n",
      "3\n",
      "7\n",
      "5\n",
      "\n",
      "Outer product:\n",
      "[[18  6 14 10]\n",
      " [72 24 56 40]\n",
      " [36 12 28 20]\n",
      " [54 18 42 30]]\n"
     ]
    }
   ],
   "source": [
    "# The outer product of two vectors\n",
    "# Useful for performing transform operations and calculating covariance or auto-covariance matrices\n",
    "print(\"Vector 1\")\n",
    "print(vector1)\n",
    "\n",
    "print(\"\\nVector 2\")\n",
    "[print(i) for i in vector2]\n",
    "\n",
    "print(\"\\nOuter product:\")\n",
    "print(np.outer(vector1, vector2))"
   ]
  },
  {
   "cell_type": "code",
   "execution_count": 18,
   "metadata": {},
   "outputs": [
    {
     "name": "stdout",
     "output_type": "stream",
     "text": [
      "Matrix 1\n",
      "[[1 9 6]\n",
      " [8 2 4]\n",
      " [7 5 1]]\n",
      "\n",
      "Matrix 1 transposed\n",
      "[[1 8 7]\n",
      " [9 2 5]\n",
      " [6 4 1]]\n"
     ]
    }
   ],
   "source": [
    "# Transpose of a matrix\n",
    "print(\"Matrix 1\")\n",
    "print(matrix1)\n",
    "\n",
    "print(\"\\nMatrix 1 transposed\")\n",
    "print(matrix1.transpose())"
   ]
  },
  {
   "cell_type": "code",
   "execution_count": 19,
   "metadata": {},
   "outputs": [
    {
     "name": "stdout",
     "output_type": "stream",
     "text": [
      "Matrix 1\n",
      "[[1 9 6]\n",
      " [8 2 4]\n",
      " [7 5 1]]\n",
      "Matrix 1 trace\n",
      "[[4]]\n"
     ]
    }
   ],
   "source": [
    "# Trace of a matrix\n",
    "print(\"Matrix 1\")\n",
    "print(matrix1)\n",
    "\n",
    "print(\"Matrix 1 trace\")\n",
    "print(matrix1.trace())"
   ]
  },
  {
   "cell_type": "code",
   "execution_count": 20,
   "metadata": {},
   "outputs": [
    {
     "name": "stdout",
     "output_type": "stream",
     "text": [
      "Matrix 1\n",
      "[[1 9 6]\n",
      " [8 2 4]\n",
      " [7 5 1]]\n",
      "\n",
      "Matrix 1 induced norm ||A||1\n",
      "16\n",
      "\n",
      "Matrix 1 induced norm ||A||2 a.k.a. spectral norm\n",
      "14.5507659955\n",
      "\n",
      "Matrix 1 induced norm ||A||inf\n",
      "16\n",
      "\n",
      "Matrix 1 Frobenius norm\n",
      "16.6433169771\n"
     ]
    }
   ],
   "source": [
    "# Matrix Norms\n",
    "\n",
    "# Matrix norms are just an extension of vector norms to matrices\n",
    "\n",
    "print(\"Matrix 1\")\n",
    "print(matrix1)\n",
    "\n",
    "# 1. Induced norm (operator norm)\n",
    "print(\"\\nMatrix 1 induced norm ||A||1\")\n",
    "print(np.linalg.norm(matrix1, ord=1))\n",
    "\n",
    "print(\"\\nMatrix 1 induced norm ||A||2 a.k.a. spectral norm\")\n",
    "print(np.linalg.norm(matrix1, ord=2))\n",
    "\n",
    "print(\"\\nMatrix 1 induced norm ||A||inf\")\n",
    "print(np.linalg.norm(matrix1, ord=np.inf))\n",
    "\n",
    "# 2. Frobenius norm\n",
    "print(\"\\nMatrix 1 Frobenius norm\")\n",
    "print(np.linalg.norm(matrix1,ord='fro'))"
   ]
  },
  {
   "cell_type": "markdown",
   "metadata": {},
   "source": [
    "## Geometric Interpretation of Matrix Norms\n",
    "### Image from Trefethen and Bau's Numerical Linear Algebra"
   ]
  },
  {
   "cell_type": "markdown",
   "metadata": {},
   "source": [
    "![\"Matrix Norms\"](matrix_norms.png)"
   ]
  },
  {
   "cell_type": "markdown",
   "metadata": {},
   "source": [
    "# Properties of Matrix Norms"
   ]
  },
  {
   "cell_type": "markdown",
   "metadata": {},
   "source": [
    "## Same as for matrix \n",
    "1. Scale invariance\n",
    "2. Triangle inequality\n",
    "3. Positivity\n",
    "\n",
    "### Some also satisfy the submultiplicative property\n",
    "# $||Ax|| \\le$ $||A||$ $||x||$ , and $||AB|| \\le$ $||A||$ $||B||$"
   ]
  },
  {
   "cell_type": "code",
   "execution_count": 21,
   "metadata": {},
   "outputs": [
    {
     "name": "stdout",
     "output_type": "stream",
     "text": [
      "Diagonal Matrix\n",
      "[[2 0 0 0]\n",
      " [0 8 0 0]\n",
      " [0 0 4 0]\n",
      " [0 0 0 6]]\n",
      "\n",
      "Identity Matrix\n",
      "[[ 1.  0.  0.  0.]\n",
      " [ 0.  1.  0.  0.]\n",
      " [ 0.  0.  1.  0.]\n",
      " [ 0.  0.  0.  1.]]\n",
      "\n",
      "Triangular Matrix\n",
      "\tLower\n",
      "[[1 0 0]\n",
      " [8 2 0]\n",
      " [7 5 1]]\n",
      "\n",
      "\tUpper\n",
      "[[1 9 6]\n",
      " [0 2 4]\n",
      " [0 0 1]]\n"
     ]
    }
   ],
   "source": [
    "# Special Types of Matrices\n",
    "\n",
    "print(\"Diagonal Matrix\")\n",
    "print(np.diag(vector1))\n",
    "\n",
    "print(\"\\nIdentity Matrix\")\n",
    "print(np.identity(4))\n",
    "\n",
    "print(\"\\nTriangular Matrix\")\n",
    "print(\"\\tLower\")\n",
    "print(np.tril(matrix1))\n",
    "print(\"\\n\\tUpper\")\n",
    "print(np.triu(matrix1))"
   ]
  },
  {
   "cell_type": "code",
   "execution_count": 22,
   "metadata": {},
   "outputs": [
    {
     "name": "stdout",
     "output_type": "stream",
     "text": [
      "The addition of two upper triangles is an upper triangle (same for subtraction)\n",
      "[[ 2 18 12]\n",
      " [ 0  4  8]\n",
      " [ 0  0  2]]\n",
      "\n",
      "Tranpose upper triangle to get lower\n",
      "[[1 0 0]\n",
      " [9 2 0]\n",
      " [6 4 1]]\n"
     ]
    }
   ],
   "source": [
    "# Some Interesting results concerning addition/subtraction and transpose\n",
    "print(\"The addition of two upper triangles is an upper triangle (same for subtraction)\")\n",
    "print(np.triu(matrix1) + np.triu(matrix1))\n",
    "\n",
    "print(\"\\nTranpose upper triangle to get lower\")\n",
    "print(np.triu(matrix1).transpose())"
   ]
  },
  {
   "cell_type": "code",
   "execution_count": 23,
   "metadata": {},
   "outputs": [
    {
     "name": "stdout",
     "output_type": "stream",
     "text": [
      "Symmetric Matrix\n",
      "[[1 3 5]\n",
      " [3 7 4]\n",
      " [5 4 9]]\n",
      "\n",
      "And its transpose\n",
      "[[1 3 5]\n",
      " [3 7 4]\n",
      " [5 4 9]]\n"
     ]
    }
   ],
   "source": [
    "# More Matrices\n",
    "matrix3 = np.matrix([[1,3,5],\n",
    "           [3,7,4],\n",
    "           [5,4,9]])\n",
    "\n",
    "print(\"Symmetric Matrix\")\n",
    "print(matrix3)\n",
    "print(\"\\nAnd its transpose\")\n",
    "print(matrix3.transpose())"
   ]
  },
  {
   "cell_type": "code",
   "execution_count": 24,
   "metadata": {},
   "outputs": [
    {
     "name": "stdout",
     "output_type": "stream",
     "text": [
      "Matrix is orthogonal if inner product with itself is the identity matrix\n",
      "\n",
      "[[1 0 0]\n",
      " [0 1 0]\n",
      " [0 0 1]]\n",
      "\n",
      "which it is\n"
     ]
    }
   ],
   "source": [
    "# Orthogonal matrices (Unitary matrices)\n",
    "matrix4 = np.matrix([[0,1,0],\n",
    "                     [1,0,0],\n",
    "                     [0,0,1]])\n",
    "\n",
    "print(\"Matrix is orthogonal if inner product with itself is the identity matrix\\n\")\n",
    "print(matrix4.dot(matrix4.transpose()))\n",
    "print(\"\\nwhich it is\")"
   ]
  },
  {
   "cell_type": "markdown",
   "metadata": {},
   "source": [
    "---------------------------------------"
   ]
  },
  {
   "cell_type": "markdown",
   "metadata": {},
   "source": [
    "## Linear Transformations\n",
    "\n",
    "# $\\mathbb{R}^n \\rightarrow \\mathbb{R}^m$\n",
    "### is a linear transformation if for all x, y ∈ Rn the following properties hold:\n",
    "\n",
    "## 1. $T(x+y)=T(x)+T(y)$\n",
    "\n",
    "## 2. $T(\\alpha x) = \\alpha T(x)$"
   ]
  },
  {
   "cell_type": "markdown",
   "metadata": {},
   "source": [
    "---------------------------------------"
   ]
  },
  {
   "cell_type": "markdown",
   "metadata": {},
   "source": [
    "# Linear Combinations\n",
    "\n",
    "## Let $v1, v2, ···, vr ∈ \\mathbb{R}^m$ be a set of vectors\n",
    "\n",
    "## Then any vector $v$ which can be written in the form\n",
    "# $v = \\alpha_1 v_1 + \\alpha_2 v_2 + ··· + \\alpha_r v_r, \\alpha_i ∈ \\mathbb i=1,...,r$ \n",
    "## is a linear combination of vectors $v_1, v_2, ... , v_r$."
   ]
  },
  {
   "cell_type": "code",
   "execution_count": 25,
   "metadata": {},
   "outputs": [
    {
     "data": {
      "text/plain": [
       "True"
      ]
     },
     "execution_count": 25,
     "metadata": {},
     "output_type": "execute_result"
    }
   ],
   "source": [
    "# Examples\n",
    "v = np.array([7,4,3])\n",
    "\n",
    "# v is also a linear combination as shown below\n",
    "all(v == 7 * np.array([1,0,0]) + 4 * np.array([0,1,0]) + 3 * np.array([0,0,1]))"
   ]
  },
  {
   "cell_type": "markdown",
   "metadata": {},
   "source": [
    "* * *"
   ]
  },
  {
   "cell_type": "markdown",
   "metadata": {},
   "source": [
    "## Span: the set of all linear combination of vectors $v_1, · · · , v_r ∈ \\mathbb{R}^m$ is called the span of ${v_1,··· ,v_r}$\n",
    "\n",
    "## span{$v_1, ... , v_r$}, is always a subspace of $\\mathbb{R}^m$.\n",
    "\n",
    "## If S = span{$v_1,··· ,v_r$}, then S is spanned by $v_1, v_2, ···, v_r$."
   ]
  },
  {
   "cell_type": "code",
   "execution_count": 26,
   "metadata": {},
   "outputs": [
    {
     "data": {
      "image/png": "[encoded data removed]",
      "text/plain": [
       "<matplotlib.figure.Figure at 0x1a13a6bd30>"
      ]
     },
     "metadata": {},
     "output_type": "display_data"
    }
   ],
   "source": [
    "vector2D_1 = np.array([0,0,4,6])\n",
    "vector2D_2 = np.array([2,7,3,1])\n",
    "\n",
    "all_vectors = [vector2D_1, vector2D_2]\n",
    "X, Y, U, V = zip(*all_vectors)\n",
    "\n",
    "plt.figure()\n",
    "ax = plt.gca()\n",
    "ax.quiver(X, Y, U, V, np.arctan2(V, U), angles='xy', scale_units='xy', scale=1, color='g')\n",
    "ax.set_xlim([-1, 10])\n",
    "ax.set_ylim([-1, 10])\n",
    "plt.draw()\n",
    "plt.show()\n",
    "plt.close()"
   ]
  },
  {
   "cell_type": "markdown",
   "metadata": {},
   "source": [
    "## Above, both vectors $v_1$ and $v_2 \\in \\mathbb{R}^2$ and the \n",
    "## set of all linear combinations of these two vectors are a subset of $\\mathbb{R}^2$"
   ]
  },
  {
   "cell_type": "markdown",
   "metadata": {
    "collapsed": true
   },
   "source": [
    "* * *"
   ]
  },
  {
   "cell_type": "markdown",
   "metadata": {},
   "source": [
    "## A set S is called a subspace if it is closed under vector addition and scalar multiplication:\n",
    "# if $x, y \\in S$ and $\\alpha \\in \\mathbb{R}$, then $x + y \\in S$ and $\\alpha x \\in S$"
   ]
  },
  {
   "cell_type": "markdown",
   "metadata": {},
   "source": [
    "* * *"
   ]
  },
  {
   "cell_type": "markdown",
   "metadata": {},
   "source": [
    "## Linear dependence: a set of vectors $v_1, v_2, ... , v_r$ is linearly dependent \n",
    "## if there exists a set of scalars $\\alpha_1, \\alpha_2, ... , \\alpha_r \\in \\mathbb{R}$ with at least one $\\alpha_i \\ne$ 0 such that\n",
    "## $\\alpha_1 v_1 + \\alpha_2 v_2 + ··· + \\alpha_r v_r = 0$\n",
    "## That is, a set of vectors is linearly dependent if one of the vectors in the set can be written as a linear combination of one or more other vectors in the set."
   ]
  },
  {
   "cell_type": "code",
   "execution_count": 27,
   "metadata": {},
   "outputs": [
    {
     "data": {
      "image/png": "[encoded data removed]",
      "text/plain": [
       "<matplotlib.figure.Figure at 0x1a13b0e470>"
      ]
     },
     "metadata": {},
     "output_type": "display_data"
    }
   ],
   "source": [
    "vector2D_1 = np.array([0,0,3/4,7/4])\n",
    "vector2D_2 = np.array([0,0,3,7])\n",
    "\n",
    "all_vectors = [vector2D_1, vector2D_2]\n",
    "X, Y, U, V = zip(*all_vectors)\n",
    "\n",
    "plt.figure()\n",
    "ax = plt.gca()\n",
    "ax.quiver(X, Y, U, V, np.arctan2(V, U), angles='xy', scale_units='xy', scale=1, color='g')\n",
    "ax.set_xlim([-1, 10])\n",
    "ax.set_ylim([-1, 10])\n",
    "plt.draw()\n",
    "plt.show()\n",
    "plt.close()"
   ]
  },
  {
   "cell_type": "code",
   "execution_count": 28,
   "metadata": {},
   "outputs": [
    {
     "name": "stdout",
     "output_type": "stream",
     "text": [
      "The above vectors are linearly dependent since -4*vector2D_1 + 1*vector2D_2 == 0\n",
      "True\n",
      "This matches the form α1v1 + α2v2 = 0, where a1 is -4 and a2 is 1\n"
     ]
    }
   ],
   "source": [
    "print(\"The above vectors are linearly dependent since -4*vector2D_1 + 1*vector2D_2 == 0\")\n",
    "print(all(-4*vector2D_1 + 1*vector2D_2 == 0))\n",
    "\n",
    "print(\"This matches the form α1v1 + α2v2 = 0, where a1 is -4 and a2 is 1\")"
   ]
  },
  {
   "cell_type": "markdown",
   "metadata": {},
   "source": [
    "## Linear independence: a set of vectors $v_1, v_2, ... , v_r$ is linearly independent if it is not linearly dependent. That is\n",
    "## $\\alpha_1 v_1 + \\alpha_2 v_2 + ··· + \\alpha_r v_r = 0 \\Leftrightarrow \\alpha_1 = ··· = \\alpha_r = 0$"
   ]
  },
  {
   "cell_type": "code",
   "execution_count": 29,
   "metadata": {},
   "outputs": [
    {
     "data": {
      "image/png": "[encoded data removed]",
      "text/plain": [
       "<matplotlib.figure.Figure at 0x1a13bd1668>"
      ]
     },
     "metadata": {},
     "output_type": "display_data"
    }
   ],
   "source": [
    "vector2D_1 = np.array([0,0,4,2])\n",
    "vector2D_2 = np.array([0,0,3,7])\n",
    "\n",
    "all_vectors = [vector2D_1, vector2D_2]\n",
    "X, Y, U, V = zip(*all_vectors)\n",
    "\n",
    "plt.figure()\n",
    "ax = plt.gca()\n",
    "ax.quiver(X, Y, U, V, np.arctan2(V, U), angles='xy', scale_units='xy', scale=1, color='g')\n",
    "ax.set_xlim([-1, 10])\n",
    "ax.set_ylim([-1, 10])\n",
    "plt.draw()\n",
    "plt.show()\n",
    "plt.close()"
   ]
  },
  {
   "cell_type": "markdown",
   "metadata": {},
   "source": [
    "## A basis for a subspace $S$ is a linearly independent set of vectors that span $S$\n",
    "\n",
    "* The basis for a subspace $S$ is not unique, but all bases for the subspace contain the same number of vectors.\n",
    "\n",
    "* For example, consider the case where $S = \\mathbb{R}^2$:"
   ]
  },
  {
   "cell_type": "code",
   "execution_count": 30,
   "metadata": {},
   "outputs": [
    {
     "data": {
      "image/png": "[encoded data removed]",
      "text/plain": [
       "<matplotlib.figure.Figure at 0x1a13c41f98>"
      ]
     },
     "metadata": {},
     "output_type": "display_data"
    }
   ],
   "source": [
    "vector2D_1 = np.array([0,0,4,0])\n",
    "vector2D_2 = np.array([0,0,0,4])\n",
    "vector2D_3 = np.array([4,4,4,4])\n",
    "vector2D_4 = np.array([4,4,-4,4])\n",
    "\n",
    "all_vectors = [vector2D_1, vector2D_2, vector2D_3, vector2D_4]\n",
    "X, Y, U, V = zip(*all_vectors)\n",
    "\n",
    "plt.figure(figsize=(6,6))\n",
    "ax = plt.gca()\n",
    "ax.quiver(X, Y, U, V, np.arctan2(V, U), angles='xy', scale_units='xy', scale=1, color='g')\n",
    "ax.set_xlim([-1, 10])\n",
    "ax.set_ylim([-1, 10])\n",
    "plt.draw()\n",
    "plt.show()\n",
    "plt.close()"
   ]
  },
  {
   "cell_type": "markdown",
   "metadata": {},
   "source": [
    "### The dimension of the subspace $S$, dim($S$), is the number of linearly independent vectors in the basis for $S$ (in the example above, dim($S$) = 2).\n",
    "\n",
    "### Theorem (unique representation): if vectors $v_1, ..., v_n$ are a basis for subspace $S$, then every vector in $S$ can be uniquely represented as a linear combination of these basis vectors.\n",
    "\n",
    "### This makes intuitive sense if you think about the basis centered at 0,0. All vectors in $\\mathbb{R}^2$ are described relative to the x- and y-axes just as every vector could be described as a linear combination of this basis."
   ]
  },
  {
   "cell_type": "markdown",
   "metadata": {},
   "source": [
    "* * *"
   ]
  },
  {
   "cell_type": "markdown",
   "metadata": {},
   "source": [
    "### The range (column space, image) of a matrix $A \\in \\mathbb{R}^{m \\times n}$, denoted by $R(A)$, is the set of all linear combinations of the columns of $A$:\n",
    "## $R(A):= \\{ Ax|x \\subseteq \\mathbb{R}^n \\}, R(A) \\subseteq \\mathbb{R}^m$\n",
    "    \n",
    "### The nullspace (kernel) of a matrix $A \\in \\mathbb{R}^{m \\times n}$, denoted by $N(A)$, is the set of vectors $z$ such that $Az = 0: N(A) := \\{ z \\in \\mathbb{R}^n | Az = 0 \\}, N(A) \\in \\mathbb{R}^n$\n",
    "\n",
    "### The range and nullspace of $A^T$ are called the row space and left nullspace of $A$.\n",
    "\n",
    "### These four subspaces of $A$ are intrinsic to $A$ and do not depend on the choice of basis.\n",
    "* * *"
   ]
  },
  {
   "cell_type": "markdown",
   "metadata": {},
   "source": [
    "# Rank"
   ]
  },
  {
   "cell_type": "markdown",
   "metadata": {},
   "source": [
    "### Let $A$ be an m-by-n matrix. Then\n",
    "\n",
    "* rank($A$) = dim(rowspace($A$)) = dim(colspace($A$)),\n",
    "* rank($A$) = number of pivots in any echelon form of $A$,\n",
    "* rank($A$) = the maximum number of linearly independent rows or columns of $A$.\n",
    "* Matrix $A \\in \\mathbb{R}^m \\times n$ is full rank if rank($A$) = min{m, n}.\n"
   ]
  },
  {
   "cell_type": "code",
   "execution_count": 31,
   "metadata": {},
   "outputs": [
    {
     "name": "stdout",
     "output_type": "stream",
     "text": [
      "[[1 9 6]\n",
      " [8 2 4]\n",
      " [7 5 1]]\n",
      "rank:  3\n",
      "[[5 3 8]\n",
      " [5 3 9]\n",
      " [4 6 0]]\n",
      "rank:  3\n",
      "[[1 3 5]\n",
      " [3 7 4]\n",
      " [5 4 9]]\n",
      "rank:  3\n",
      "[[0 1 0]\n",
      " [1 0 0]\n",
      " [0 0 1]]\n",
      "rank:  3\n",
      "[[1 0 0]\n",
      " [0 1 0]\n",
      " [0 0 0]]\n",
      "rank:  2\n"
     ]
    }
   ],
   "source": [
    "print(matrix1)\n",
    "print(\"rank: \", np.linalg.matrix_rank(matrix1))\n",
    "\n",
    "print(matrix2)\n",
    "print(\"rank: \", np.linalg.matrix_rank(matrix2))\n",
    "\n",
    "print(matrix3)\n",
    "print(\"rank: \", np.linalg.matrix_rank(matrix3))\n",
    "\n",
    "print(matrix4)\n",
    "print(\"rank: \", np.linalg.matrix_rank(matrix4))\n",
    "\n",
    "matrix5 = np.matrix([[1,0,0],[0,1,0],[0,0,0]])\n",
    "print(matrix5)\n",
    "print(\"rank: \", np.linalg.matrix_rank(matrix5))"
   ]
  },
  {
   "cell_type": "markdown",
   "metadata": {
    "collapsed": true
   },
   "source": [
    "## Fundamental theorem of linear algebra:\n",
    "\n",
    "* The nullspace of $A$ is the orthogonal complement of the row space.\n",
    "$N (A) = (R(A^T))^⊥$\n",
    "* The left nullspace of $A$ is the orthogonal complement of the column\n",
    "space.\n",
    "$N (A^T ) = (R(A))^⊥$"
   ]
  },
  {
   "cell_type": "code",
   "execution_count": 53,
   "metadata": {},
   "outputs": [
    {
     "name": "stdout",
     "output_type": "stream",
     "text": [
      "The nullspace is:\n",
      "[Matrix([\n",
      "[-1/16],\n",
      "[-13/8],\n",
      "[    1]])]\n",
      "\n",
      "Verify nullspace:\n",
      "Matrix([[0], [0], [0]])\n",
      "\n",
      "The left nullspace is:\n",
      "[Matrix([\n",
      "[0],\n",
      "[0],\n",
      "[1]])]\n"
     ]
    }
   ],
   "source": [
    "from sympy import Matrix\n",
    "\n",
    "A = Matrix([[2, 3, 5], [-4, 2, 3], [0, 0, 0]])\n",
    "nullspace = A.nullspace()\n",
    "\n",
    "print(\"The nullspace is:\")\n",
    "print(nullspace)\n",
    "\n",
    "print(\"\\nVerify nullspace:\")\n",
    "print(A * A.nullspace()[0])\n",
    "\n",
    "print(\"\\nThe left nullspace is:\")\n",
    "print(A.transpose().nullspace())\n"
   ]
  },
  {
   "cell_type": "markdown",
   "metadata": {},
   "source": [
    "## Corollary (Rank-nullity):\n",
    "## $dim(R(A))+dim(N(A))=n, A\\in \\mathbb{R}^{m\\times n}$"
   ]
  },
  {
   "cell_type": "code",
   "execution_count": null,
   "metadata": {
    "collapsed": true
   },
   "outputs": [],
   "source": []
  }
 ],
 "metadata": {
  "kernelspec": {
   "display_name": "Python [conda env:py3k]",
   "language": "python",
   "name": "conda-env-py3k-py"
  },
  "language_info": {
   "codemirror_mode": {
    "name": "ipython",
    "version": 3
   },
   "file_extension": ".py",
   "mimetype": "text/x-python",
   "name": "python",
   "nbconvert_exporter": "python",
   "pygments_lexer": "ipython3",
   "version": "3.5.4"
  },
  "nbpresent": {
   "slides": {
    "247e3c7d-68eb-4334-b3dd-c5658f98cdd9": {
     "id": "247e3c7d-68eb-4334-b3dd-c5658f98cdd9",
     "prev": "8a4ab34f-4e27-4fce-9e3c-6f353ffc1463",
     "regions": {
      "7d6e3427-a34a-437b-a94d-07b8249157fa": {
       "attrs": {
        "height": 0.8,
        "width": 0.8,
        "x": 0.1,
        "y": 0.1
       },
       "content": {
        "cell": "d9349ab8-ab7f-4800-aff4-99322bfca3c1",
        "part": "whole"
       },
       "id": "7d6e3427-a34a-437b-a94d-07b8249157fa"
      }
     }
    },
    "3e461030-03c0-43e3-8849-86c36f1ade07": {
     "id": "3e461030-03c0-43e3-8849-86c36f1ade07",
     "prev": "247e3c7d-68eb-4334-b3dd-c5658f98cdd9",
     "regions": {
      "7f75dfe5-948e-42a6-8c9e-60f812514e12": {
       "attrs": {
        "height": 0.8,
        "width": 0.8,
        "x": 0.1,
        "y": 0.1
       },
       "content": {
        "cell": "8806681c-a60c-4d52-a651-5b0fed00abc1",
        "part": "whole"
       },
       "id": "7f75dfe5-948e-42a6-8c9e-60f812514e12"
      }
     }
    },
    "48726bbc-0357-4237-95c4-84efae8f4ba8": {
     "id": "48726bbc-0357-4237-95c4-84efae8f4ba8",
     "prev": "3e461030-03c0-43e3-8849-86c36f1ade07",
     "regions": {
      "e3637e8d-9473-4955-b3f9-9a9bfd282e63": {
       "attrs": {
        "height": 0.8,
        "width": 0.8,
        "x": 0.1,
        "y": 0.1
       },
       "content": {
        "cell": "3def484d-4722-4d24-a08b-e3a974c73ab2",
        "part": "whole"
       },
       "id": "e3637e8d-9473-4955-b3f9-9a9bfd282e63"
      }
     }
    },
    "8a4ab34f-4e27-4fce-9e3c-6f353ffc1463": {
     "id": "8a4ab34f-4e27-4fce-9e3c-6f353ffc1463",
     "prev": "93526580-cddc-43c6-a8e6-f1e5c0bf7e31",
     "regions": {
      "49aef700-6c22-46af-b94d-ed4068a9c01c": {
       "attrs": {
        "height": 0.8,
        "width": 0.8,
        "x": 0.1,
        "y": 0.1
       },
       "content": {
        "cell": "56da9470-c524-4377-89e3-639db5f3ac00",
        "part": "whole"
       },
       "id": "49aef700-6c22-46af-b94d-ed4068a9c01c"
      }
     }
    },
    "8beb8294-0bbc-4f56-ad74-9ecf5dd900fc": {
     "id": "8beb8294-0bbc-4f56-ad74-9ecf5dd900fc",
     "prev": "8fbf086f-e418-4789-aeda-9be756ae4fa2",
     "regions": {
      "ec2274da-80e4-4d74-ace6-b42fef93ed2f": {
       "attrs": {
        "height": 0.8,
        "width": 0.8,
        "x": 0.1,
        "y": 0.1
       },
       "content": {
        "cell": "a4d8a5c2-9b64-4f19-b2e8-4ba2cc2ec05f",
        "part": "whole"
       },
       "id": "ec2274da-80e4-4d74-ace6-b42fef93ed2f"
      }
     }
    },
    "8fbf086f-e418-4789-aeda-9be756ae4fa2": {
     "id": "8fbf086f-e418-4789-aeda-9be756ae4fa2",
     "prev": null,
     "regions": {
      "3982d427-327d-41bf-8c46-c445a4813baa": {
       "attrs": {
        "height": 0.8,
        "width": 0.8,
        "x": 0.1,
        "y": 0.1
       },
       "content": {
        "cell": "b06790f0-d8d8-4755-b874-81ed5ea8d6aa",
        "part": "whole"
       },
       "id": "3982d427-327d-41bf-8c46-c445a4813baa"
      }
     }
    },
    "93526580-cddc-43c6-a8e6-f1e5c0bf7e31": {
     "id": "93526580-cddc-43c6-a8e6-f1e5c0bf7e31",
     "prev": "8beb8294-0bbc-4f56-ad74-9ecf5dd900fc",
     "regions": {
      "254a80f0-15c1-4b78-b372-534cde6571ce": {
       "attrs": {
        "height": 0.8,
        "width": 0.8,
        "x": 0.1,
        "y": 0.1
       },
       "content": {
        "cell": "31be2a82-55a8-4c4d-827d-90c80dbd2e2f",
        "part": "whole"
       },
       "id": "254a80f0-15c1-4b78-b372-534cde6571ce"
      }
     }
    }
   },
   "themes": {}
  }
 },
 "nbformat": 4,
 "nbformat_minor": 2
}
