{
 "cells": [
  {
   "cell_type": "markdown",
   "metadata": {},
   "source": [
    "# Benjamini-Hochberg False Discovery Rate\n",
    "---"
   ]
  },
  {
   "cell_type": "markdown",
   "metadata": {},
   "source": [
    "## Publication:\n",
    "### Benjamini, Y., & Hochberg, Y. (1995). Controlling the False Discovery Rate: A Practical and Powerful Approach to Multiple Testing. Journal of the Royal Statistical Society. Series B (Methodological), 57(1), 289-300. Retrieved from http://www.jstor.org/stable/2346101"
   ]
  },
  {
   "cell_type": "markdown",
   "metadata": {},
   "source": [
    "## In this notebook, I will demonstrate a geometric representation of BH FDR correction. \n",
    "\n",
    "### As describe in Wikipedia (https://en.wikipedia.org/wiki/False_discovery_rate#Benjamini%E2%80%93Hochberg_procedure):\n"
   ]
  },
  {
   "cell_type": "markdown",
   "metadata": {},
   "source": [
    "---\n",
    "## Formula for BH FDR\n",
    "\n",
    "### For a given $\\alpha$, find the largest $k$ such that $P_{(k)}\\leq {\\frac {k}{m}}\\alpha$ where $P_{(k)}$ is our p-value, $k$ is the rank of that p-value, $m$ is the number of p-values, and $\\alpha$ is our significance cutoff.\n",
    "### Reject the null hypothesis (i.e., declare discoveries) for all $H_{(i)}$ for $i = 1 , \\ldots, k$."
   ]
  },
  {
   "cell_type": "markdown",
   "metadata": {},
   "source": [
    "---\n",
    "## What we'll see:\n",
    "\n",
    "### Geometrically, this FDR procedure corresponds to plotting $P_{(k)}$ vs. $k$ (on the y and x axes respectively), drawing the line through the origin with slope ${\\frac {\\alpha }{m}}$, and rejecting all null hypotheses that are to the left of where the points cross the line."
   ]
  },
  {
   "cell_type": "code",
   "execution_count": 24,
   "metadata": {},
   "outputs": [],
   "source": [
    "# First, we'll import all of the necessary libraries\n",
    "import numpy as np\n",
    "import pandas as pd\n",
    "import matplotlib.pyplot as plt\n",
    "import seaborn as sns\n",
    "from statsmodels.sandbox.stats.multicomp import multipletests"
   ]
  },
  {
   "cell_type": "code",
   "execution_count": 25,
   "metadata": {},
   "outputs": [
    {
     "name": "stdout",
     "output_type": "stream",
     "text": [
      "3362\n"
     ]
    },
    {
     "data": {
      "text/html": [
       "<div>\n",
       "<style scoped>\n",
       "    .dataframe tbody tr th:only-of-type {\n",
       "        vertical-align: middle;\n",
       "    }\n",
       "\n",
       "    .dataframe tbody tr th {\n",
       "        vertical-align: top;\n",
       "    }\n",
       "\n",
       "    .dataframe thead th {\n",
       "        text-align: right;\n",
       "    }\n",
       "</style>\n",
       "<table border=\"1\" class=\"dataframe\">\n",
       "  <thead>\n",
       "    <tr style=\"text-align: right;\">\n",
       "      <th></th>\n",
       "      <th>p_values</th>\n",
       "    </tr>\n",
       "  </thead>\n",
       "  <tbody>\n",
       "    <tr>\n",
       "      <th>0</th>\n",
       "      <td>2.289478e-11</td>\n",
       "    </tr>\n",
       "    <tr>\n",
       "      <th>1</th>\n",
       "      <td>9.912538e-11</td>\n",
       "    </tr>\n",
       "    <tr>\n",
       "      <th>2</th>\n",
       "      <td>7.302179e-10</td>\n",
       "    </tr>\n",
       "    <tr>\n",
       "      <th>3</th>\n",
       "      <td>1.101082e-09</td>\n",
       "    </tr>\n",
       "    <tr>\n",
       "      <th>4</th>\n",
       "      <td>1.306089e-09</td>\n",
       "    </tr>\n",
       "  </tbody>\n",
       "</table>\n",
       "</div>"
      ],
      "text/plain": [
       "       p_values\n",
       "0  2.289478e-11\n",
       "1  9.912538e-11\n",
       "2  7.302179e-10\n",
       "3  1.101082e-09\n",
       "4  1.306089e-09"
      ]
     },
     "execution_count": 25,
     "metadata": {},
     "output_type": "execute_result"
    }
   ],
   "source": [
    "# Next, we'll open some example p-values -- these are unsorted and we won't worry about what they correspond to\n",
    "# We will read them, sort them, and reset the index\n",
    "df = pd.read_csv(\"p-values.txt\").sort_values(by=\"p_values\")\n",
    "df.reset_index(inplace=True, drop=True)\n",
    "print(len(df.p_values))\n",
    "df.head()"
   ]
  },
  {
   "cell_type": "code",
   "execution_count": 26,
   "metadata": {},
   "outputs": [],
   "source": [
    "# Here is a function I designed to perform the correction\n",
    "def fdr_bh(df, alpha=0.05):\n",
    "    \"\"\"Given a dataframe with p_values, return dataframe with additional column of True/False if significant/not\"\"\"\n",
    "    df[\"significant\"]=[True if i <= ((df.index[x]+1)/len(df.index))*alpha else False for x,i in enumerate(df.p_values)]\n",
    "    return df"
   ]
  },
  {
   "cell_type": "code",
   "execution_count": 27,
   "metadata": {},
   "outputs": [
    {
     "data": {
      "text/html": [
       "<div>\n",
       "<style scoped>\n",
       "    .dataframe tbody tr th:only-of-type {\n",
       "        vertical-align: middle;\n",
       "    }\n",
       "\n",
       "    .dataframe tbody tr th {\n",
       "        vertical-align: top;\n",
       "    }\n",
       "\n",
       "    .dataframe thead th {\n",
       "        text-align: right;\n",
       "    }\n",
       "</style>\n",
       "<table border=\"1\" class=\"dataframe\">\n",
       "  <thead>\n",
       "    <tr style=\"text-align: right;\">\n",
       "      <th></th>\n",
       "      <th>p_values</th>\n",
       "      <th>significant</th>\n",
       "    </tr>\n",
       "  </thead>\n",
       "  <tbody>\n",
       "    <tr>\n",
       "      <th>0</th>\n",
       "      <td>2.289478e-11</td>\n",
       "      <td>True</td>\n",
       "    </tr>\n",
       "    <tr>\n",
       "      <th>1</th>\n",
       "      <td>9.912538e-11</td>\n",
       "      <td>True</td>\n",
       "    </tr>\n",
       "    <tr>\n",
       "      <th>2</th>\n",
       "      <td>7.302179e-10</td>\n",
       "      <td>True</td>\n",
       "    </tr>\n",
       "    <tr>\n",
       "      <th>3</th>\n",
       "      <td>1.101082e-09</td>\n",
       "      <td>True</td>\n",
       "    </tr>\n",
       "    <tr>\n",
       "      <th>4</th>\n",
       "      <td>1.306089e-09</td>\n",
       "      <td>True</td>\n",
       "    </tr>\n",
       "  </tbody>\n",
       "</table>\n",
       "</div>"
      ],
      "text/plain": [
       "       p_values  significant\n",
       "0  2.289478e-11         True\n",
       "1  9.912538e-11         True\n",
       "2  7.302179e-10         True\n",
       "3  1.101082e-09         True\n",
       "4  1.306089e-09         True"
      ]
     },
     "execution_count": 27,
     "metadata": {},
     "output_type": "execute_result"
    }
   ],
   "source": [
    "df = fdr_bh(df)\n",
    "df.head()"
   ]
  },
  {
   "cell_type": "code",
   "execution_count": 28,
   "metadata": {},
   "outputs": [
    {
     "data": {
      "image/png": "[encoded data removed]",
      "text/plain": [
       "<matplotlib.figure.Figure at 0x1a134a3a20>"
      ]
     },
     "metadata": {},
     "output_type": "display_data"
    }
   ],
   "source": [
    "# y = slope*x + intercept\n",
    "# slope = alpha/m\n",
    "# intercept = 0\n",
    "# Formula now:\n",
    "# y = alpha/m*x + b\n",
    "\n",
    "# x values go from 0-3361 (number of p-values)\n",
    "x = np.linspace(0,3361,3362)\n",
    "y = [(0.05/3362)*i for i in x]\n",
    "\n",
    "plt.figure(figsize=(15,10))\n",
    "plt.scatter(df.index, df.p_values, marker='o',c=df.significant, cmap=plt.cm.coolwarm, edgecolors='none')\n",
    "plt.plot(x,y, color='g', linewidth=1)\n",
    "plt.xlim(0,3390)\n",
    "plt.ylim(0,1.1)\n",
    "plt.ylabel(\"p-value\")\n",
    "plt.xlabel(\"rank\")\n",
    "plt.show()"
   ]
  },
  {
   "cell_type": "code",
   "execution_count": 35,
   "metadata": {},
   "outputs": [
    {
     "data": {
      "text/html": [
       "<div>\n",
       "<style scoped>\n",
       "    .dataframe tbody tr th:only-of-type {\n",
       "        vertical-align: middle;\n",
       "    }\n",
       "\n",
       "    .dataframe tbody tr th {\n",
       "        vertical-align: top;\n",
       "    }\n",
       "\n",
       "    .dataframe thead th {\n",
       "        text-align: right;\n",
       "    }\n",
       "</style>\n",
       "<table border=\"1\" class=\"dataframe\">\n",
       "  <thead>\n",
       "    <tr style=\"text-align: right;\">\n",
       "      <th></th>\n",
       "      <th>p_values</th>\n",
       "      <th>adj_p_values</th>\n",
       "      <th>significant</th>\n",
       "    </tr>\n",
       "  </thead>\n",
       "  <tbody>\n",
       "    <tr>\n",
       "      <th>1193</th>\n",
       "      <td>0.017513</td>\n",
       "      <td>0.049312</td>\n",
       "      <td>True</td>\n",
       "    </tr>\n",
       "    <tr>\n",
       "      <th>1194</th>\n",
       "      <td>0.017570</td>\n",
       "      <td>0.049432</td>\n",
       "      <td>True</td>\n",
       "    </tr>\n",
       "    <tr>\n",
       "      <th>1195</th>\n",
       "      <td>0.017829</td>\n",
       "      <td>0.050117</td>\n",
       "      <td>False</td>\n",
       "    </tr>\n",
       "    <tr>\n",
       "      <th>1196</th>\n",
       "      <td>0.017866</td>\n",
       "      <td>0.050164</td>\n",
       "      <td>False</td>\n",
       "    </tr>\n",
       "  </tbody>\n",
       "</table>\n",
       "</div>"
      ],
      "text/plain": [
       "      p_values  adj_p_values  significant\n",
       "1193  0.017513      0.049312         True\n",
       "1194  0.017570      0.049432         True\n",
       "1195  0.017829      0.050117        False\n",
       "1196  0.017866      0.050164        False"
      ]
     },
     "execution_count": 35,
     "metadata": {},
     "output_type": "execute_result"
    }
   ],
   "source": [
    "# So, the points cross the line between dataframe index (or rank or x value) 1194 and 1195\n",
    "# See below\n",
    "df[1193:1197]\n",
    "\n",
    "# As mentioned, everything to the left of this crossing -- all points in red -- \n",
    "# are signficantly different from the null"
   ]
  },
  {
   "cell_type": "code",
   "execution_count": 29,
   "metadata": {},
   "outputs": [
    {
     "name": "stdout",
     "output_type": "stream",
     "text": [
      "3362\n"
     ]
    },
    {
     "data": {
      "text/html": [
       "<div>\n",
       "<style scoped>\n",
       "    .dataframe tbody tr th:only-of-type {\n",
       "        vertical-align: middle;\n",
       "    }\n",
       "\n",
       "    .dataframe tbody tr th {\n",
       "        vertical-align: top;\n",
       "    }\n",
       "\n",
       "    .dataframe thead th {\n",
       "        text-align: right;\n",
       "    }\n",
       "</style>\n",
       "<table border=\"1\" class=\"dataframe\">\n",
       "  <thead>\n",
       "    <tr style=\"text-align: right;\">\n",
       "      <th></th>\n",
       "      <th>p_values</th>\n",
       "    </tr>\n",
       "  </thead>\n",
       "  <tbody>\n",
       "    <tr>\n",
       "      <th>0</th>\n",
       "      <td>2.289478e-11</td>\n",
       "    </tr>\n",
       "    <tr>\n",
       "      <th>1</th>\n",
       "      <td>9.912538e-11</td>\n",
       "    </tr>\n",
       "    <tr>\n",
       "      <th>2</th>\n",
       "      <td>7.302179e-10</td>\n",
       "    </tr>\n",
       "    <tr>\n",
       "      <th>3</th>\n",
       "      <td>1.101082e-09</td>\n",
       "    </tr>\n",
       "    <tr>\n",
       "      <th>4</th>\n",
       "      <td>1.306089e-09</td>\n",
       "    </tr>\n",
       "  </tbody>\n",
       "</table>\n",
       "</div>"
      ],
      "text/plain": [
       "       p_values\n",
       "0  2.289478e-11\n",
       "1  9.912538e-11\n",
       "2  7.302179e-10\n",
       "3  1.101082e-09\n",
       "4  1.306089e-09"
      ]
     },
     "execution_count": 29,
     "metadata": {},
     "output_type": "execute_result"
    }
   ],
   "source": [
    "# Next, we'll re-open the data and use an existing package to perform FDR correction\n",
    "df = pd.read_csv(\"p-values.txt\").sort_values(by=\"p_values\")\n",
    "df.reset_index(inplace=True, drop=True)\n",
    "print(len(df.p_values))\n",
    "df.head()"
   ]
  },
  {
   "cell_type": "code",
   "execution_count": 30,
   "metadata": {},
   "outputs": [
    {
     "data": {
      "text/html": [
       "<div>\n",
       "<style scoped>\n",
       "    .dataframe tbody tr th:only-of-type {\n",
       "        vertical-align: middle;\n",
       "    }\n",
       "\n",
       "    .dataframe tbody tr th {\n",
       "        vertical-align: top;\n",
       "    }\n",
       "\n",
       "    .dataframe thead th {\n",
       "        text-align: right;\n",
       "    }\n",
       "</style>\n",
       "<table border=\"1\" class=\"dataframe\">\n",
       "  <thead>\n",
       "    <tr style=\"text-align: right;\">\n",
       "      <th></th>\n",
       "      <th>p_values</th>\n",
       "      <th>adj_p_values</th>\n",
       "      <th>significant</th>\n",
       "    </tr>\n",
       "  </thead>\n",
       "  <tbody>\n",
       "    <tr>\n",
       "      <th>0</th>\n",
       "      <td>2.289478e-11</td>\n",
       "      <td>7.697224e-08</td>\n",
       "      <td>True</td>\n",
       "    </tr>\n",
       "    <tr>\n",
       "      <th>1</th>\n",
       "      <td>9.912538e-11</td>\n",
       "      <td>1.666298e-07</td>\n",
       "      <td>True</td>\n",
       "    </tr>\n",
       "    <tr>\n",
       "      <th>2</th>\n",
       "      <td>7.302179e-10</td>\n",
       "      <td>8.183308e-07</td>\n",
       "      <td>True</td>\n",
       "    </tr>\n",
       "    <tr>\n",
       "      <th>3</th>\n",
       "      <td>1.101082e-09</td>\n",
       "      <td>8.782145e-07</td>\n",
       "      <td>True</td>\n",
       "    </tr>\n",
       "    <tr>\n",
       "      <th>4</th>\n",
       "      <td>1.306089e-09</td>\n",
       "      <td>8.782145e-07</td>\n",
       "      <td>True</td>\n",
       "    </tr>\n",
       "  </tbody>\n",
       "</table>\n",
       "</div>"
      ],
      "text/plain": [
       "       p_values  adj_p_values  significant\n",
       "0  2.289478e-11  7.697224e-08         True\n",
       "1  9.912538e-11  1.666298e-07         True\n",
       "2  7.302179e-10  8.183308e-07         True\n",
       "3  1.101082e-09  8.782145e-07         True\n",
       "4  1.306089e-09  8.782145e-07         True"
      ]
     },
     "execution_count": 30,
     "metadata": {},
     "output_type": "execute_result"
    }
   ],
   "source": [
    "# We'll correct our p-values using multipletests from statsmodels\n",
    "# Returns array of True/False where True for hypothesis that can be rejected for given alpha\n",
    "#         array of adjusted p-values\n",
    "#         corrected alpha for Sidak method -- we'll ignore\n",
    "#         corrected alpha for Bonferroni method -- we'll ignore\n",
    "adj_p_values = multipletests(df.p_values, alpha=0.05, method=\"fdr_bh\")\n",
    "df[\"adj_p_values\"]=adj_p_values[1]\n",
    "df[\"significant\"]=adj_p_values[0]\n",
    "df.head()"
   ]
  },
  {
   "cell_type": "code",
   "execution_count": 31,
   "metadata": {},
   "outputs": [
    {
     "data": {
      "image/png": "[encoded data removed]",
      "text/plain": [
       "<matplotlib.figure.Figure at 0x10db57358>"
      ]
     },
     "metadata": {},
     "output_type": "display_data"
    }
   ],
   "source": [
    "# y = slope*x + intercept\n",
    "# slope = alpha/m\n",
    "# intercept = 0\n",
    "# Formula now:\n",
    "# y = alpha/m*x + b\n",
    "\n",
    "# x values go from 0-3361 (number of p-values)\n",
    "x = np.linspace(0,3361,3362)\n",
    "y = [(0.05/3362)*i for i in x]\n",
    "\n",
    "plt.figure(figsize=(15,10))\n",
    "plt.scatter(df.index, df.p_values, marker='o',c=df.significant, cmap=plt.cm.coolwarm, edgecolors='none')\n",
    "plt.plot(x,y, color='g', linewidth=1)\n",
    "plt.xlim(0,3390)\n",
    "plt.ylim(0,1.1)\n",
    "plt.ylabel(\"p-value\")\n",
    "plt.xlabel(\"rank\")\n",
    "plt.show()"
   ]
  },
  {
   "cell_type": "code",
   "execution_count": null,
   "metadata": {},
   "outputs": [],
   "source": [
    "# Just as we saw above, the points cross the line between dataframe index (or rank or x value) 1194 and 1195\n",
    "# See below\n",
    "df[1193:1197]\n",
    "\n",
    "# Everything to the left of this crossing -- all points in red -- \n",
    "# are signficantly different from the null"
   ]
  },
  {
   "cell_type": "code",
   "execution_count": null,
   "metadata": {},
   "outputs": [],
   "source": []
  }
 ],
 "metadata": {
  "kernelspec": {
   "display_name": "Python [conda env:py3k]",
   "language": "python",
   "name": "conda-env-py3k-py"
  },
  "language_info": {
   "codemirror_mode": {
    "name": "ipython",
    "version": 3
   },
   "file_extension": ".py",
   "mimetype": "text/x-python",
   "name": "python",
   "nbconvert_exporter": "python",
   "pygments_lexer": "ipython3",
   "version": "3.5.4"
  }
 },
 "nbformat": 4,
 "nbformat_minor": 2
}
