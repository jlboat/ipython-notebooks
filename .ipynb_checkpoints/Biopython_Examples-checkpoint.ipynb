{
 "cells": [
  {
   "cell_type": "code",
   "execution_count": 25,
   "metadata": {
    "collapsed": true
   },
   "outputs": [],
   "source": [
    "import numpy as np\n",
    "from Bio import Alphabet\n",
    "from Bio import Entrez\n",
    "from Bio import Seq\n",
    "from Bio import SeqIO\n",
    "from Bio import SeqUtils"
   ]
  },
  {
   "cell_type": "code",
   "execution_count": 2,
   "metadata": {
    "collapsed": true
   },
   "outputs": [],
   "source": [
    "Entrez.email = \"lboat@ufl.edu\"\n",
    "handle = Entrez.efetch(db=\"nucleotide\", id=\"AF174428.2\", rettype=\"gb\", retmode=\"text\")\n",
    "record = SeqIO.read(handle, \"genbank\")\n",
    "handle.close()"
   ]
  },
  {
   "cell_type": "code",
   "execution_count": 3,
   "metadata": {
    "scrolled": false
   },
   "outputs": [
    {
     "name": "stdout",
     "output_type": "stream",
     "text": [
      "ID: AF174428.2\n",
      "Name: AF174428\n",
      "Description: Arabidopsis thaliana FH protein interacting protein FIP1 (FIP1) mRNA, complete cds.\n",
      "Number of features: 3\n",
      "/keywords=['']\n",
      "/references=[Reference(title='Characterization of Arabidopsis formin-like protein AFH1 and its interacting proteins', ...), Reference(title='Direct Submission', ...), Reference(title='Direct Submission', ...)]\n",
      "/date=06-OCT-2017\n",
      "/comment=On Oct 6, 2017 this sequence version replaced gi:6503011.\n",
      "/data_file_division=PLN\n",
      "/organism=Arabidopsis thaliana\n",
      "/sequence_version=2\n",
      "/source=Arabidopsis thaliana (thale cress)\n",
      "/taxonomy=['Eukaryota', 'Viridiplantae', 'Streptophyta', 'Embryophyta', 'Tracheophyta', 'Spermatophyta', 'Magnoliophyta', 'eudicotyledons', 'Gunneridae', 'Pentapetalae', 'rosids', 'malvids', 'Brassicales', 'Brassicaceae', 'Camelineae', 'Arabidopsis']\n",
      "/accessions=['AF174428']\n",
      "Seq('CATCAAATCATGAGTGGGCAAGAGAATCATGATCATGGCCGGATCTCTTCTACG...AAA', IUPACAmbiguousDNA())\n",
      "\n",
      "Full length sequence:\n",
      "CATCAAATCATGAGTGGGCAAGAGAATCATGATCATGGCCGGATCTCTTCTACGCCCGCCGCCGCGTCGGAACCTTCCAAGGCTGCTGCTCACTCCTCTGACTACGCTCCTTACCCTAAGCTCGATCCTACCGACGTCACTCCTCCTCCTCCTCAGCCTATTCCCACCGGTGCCGCCGCAACCACCATGCCAGCGGAATCCAATCCTTACGTTTCTCCTTCCCCTGCCCCAAGGAATACGATGGATTCGGTGAAGGATACGTTAGGGAAATGGGGGAAAATGGCTGCCGACGCCACCAAGAAGGCGGAGGATCTCGCCGGAAATTTTTGGCAGCACTTGAAAACAGGCCCAAGTGTAGCCGATGCTGCTGTTTCACGAATTGCTCAGGGGACAAAAATACTTGCAGAGGGTGGATACGAAAAGGTCTTCAAGCAAACATTTGATTGCCTTCCTGATGAAAAACTTCTCAAGACCTATGCTTGCTACTTGTCTACATCTGCTGGTCCTGTCCTGGGAGTTATGTATCTTTCGACTCACAAGCTTGCGTTCTCTAGTGACAATCCTCTCTCTTACAAAGAGGGTGAGCAGACCCTGTGGAGCTATTACAAGGTGGTACTTCCGGCGAATCAGCTGAAGGCAGTGAACCCATCAACAAGTAGAGTGAACACATCTGATAAATACATACAAGTGATTTCCATCGACAACCACGAGTTCTGGTTTATGGGGTTTGTGACTTATGAAAGCGCTGTGAAGAGCCTTCAAGAAGCGGTGCAGTCACATGGTCCGTGAAGGTCCACTGGTATAAATGGCAACTCTTAGTGATATTGTGCATTAACATATGGAACAGTGTGTTTTAGTATTTGATACCATTTCAATGTGTTCTACATTTTGTCCTCTTGGCGTTTACTCATAAACATTGCTTTTGTTCATTTCCTTTTGTATAAAATGTCTTCTTTGTTCTAAAAAAAAAAAAAAAAAAAAAAAA\n"
     ]
    }
   ],
   "source": [
    "# We can print the whole record\n",
    "print(record)\n",
    "\n",
    "# Or specific parts we are interested in\n",
    "print(\"\\nFull length sequence:\")\n",
    "print(record.seq)"
   ]
  },
  {
   "cell_type": "code",
   "execution_count": 16,
   "metadata": {},
   "outputs": [
    {
     "name": "stdout",
     "output_type": "stream",
     "text": [
      "The GC content of my sequence is: 46.19%\n",
      "Length of sequence: 985nt\n"
     ]
    }
   ],
   "source": [
    "print(\"The GC content of my sequence is: {0:.2f}%\".format(SeqUtils.GC(record.seq)))\n",
    "print(\"Length of sequence: {0}nt\".format(len(record.seq)))"
   ]
  },
  {
   "cell_type": "code",
   "execution_count": 10,
   "metadata": {},
   "outputs": [
    {
     "data": {
      "text/plain": [
       "(46.192893401015226, 47.72036474164134, 44.51219512195122, 46.34146341463415)"
      ]
     },
     "execution_count": 10,
     "metadata": {},
     "output_type": "execute_result"
    }
   ],
   "source": [
    "# Check how GC content is distributed within the sequence\n",
    "# returns (Total, first position, second, third)\n",
    "SeqUtils.GC123(record.seq)"
   ]
  },
  {
   "cell_type": "code",
   "execution_count": 12,
   "metadata": {},
   "outputs": [
    {
     "data": {
      "text/plain": [
       "[-0.15789473684210525,\n",
       " -0.5081967213114754,\n",
       " 0.018867924528301886,\n",
       " 0.12,\n",
       " -0.047619047619047616,\n",
       " 0.0,\n",
       " 0.0,\n",
       " 0.21568627450980393,\n",
       " 0.125,\n",
       " -0.29411764705882354]"
      ]
     },
     "execution_count": 12,
     "metadata": {},
     "output_type": "execute_result"
    }
   ],
   "source": [
    "# Calculate GC skew (G-C)/(G+C) for a multiple windows along the sequence (NOT A SLIDING WINDOW)\n",
    "SeqUtils.GC_skew(seq=record.seq, window=100)"
   ]
  },
  {
   "cell_type": "code",
   "execution_count": 21,
   "metadata": {
    "scrolled": true
   },
   "outputs": [
    {
     "name": "stdout",
     "output_type": "stream",
     "text": [
      "GC_Frame: a:264 t:266 g:215 c:240 \n",
      "Sequence: catcaaatca ... aaaaaaaaaa, 985 nt, 46.19 %GC\n",
      "\n",
      "\n",
      "1/1\n",
      "  S  N  H  E  W  A  R  E  S  *  S  W  P  D  L  F  Y  A  R  R\n",
      " I  K  S  *  V  G  K  R  I  M  I  M  A  G  S  L  L  R  P  P\n",
      "H  Q  I  M  S  G  Q  E  N  H  D  H  G  R  I  S  S  T  P  A\n",
      "catcaaatcatgagtgggcaagagaatcatgatcatggccggatctcttctacgcccgcc   51 %\n",
      "gtagtttagtactcacccgttctcttagtactagtaccggcctagagaagatgcgggcgg\n",
      "M  L  D  H  T  P  L  L  I  M  I  M  A  P  D  R  R  R  G  G \n",
      " D  F  *  S  H  A  L  S  D  H  D  H  G  S  R  K  *  A  R  R\n",
      "  *  I  M  L  P  C  S  F  *  S  *  P  R  I  E  E  V  G  A  A\n",
      "\n",
      "61/21\n",
      "  R  V  G  T  F  Q  G  C  C  S  L  L  *  L  R  S  L  P  *  A\n",
      " P  R  R  N  L  P  R  L  L  L  T  P  L  T  T  L  L  T  L  S\n",
      "A  A  S  E  P  S  K  A  A  A  H  S  S  D  Y  A  P  Y  P  K\n",
      "gccgcgtcggaaccttccaaggctgctgctcactcctctgactacgctccttaccctaag   60 %\n",
      "cggcgcagccttggaaggttccgacgacgagtgaggagactgatgcgaggaatgggattc\n",
      "G  R  R  F  R  G  L  S  S  S  V  G  R  V  V  S  R  V  R  L \n",
      " R  T  P  V  K  W  P  Q  Q  E  S  R  Q  S  R  E  K  G  *  A\n",
      "  A  D  S  G  E  L  A  A  A  *  E  E  S  *  A  G  *  G  L  S\n",
      "\n",
      "121/41\n",
      "  R  S  Y  R  R  H  S  S  S  S  S  A  Y  S  H  R  C  R  R  N\n",
      " S  I  L  P  T  S  L  L  L  L  L  S  L  F  P  P  V  P  P  Q\n",
      "L  D  P  T  D  V  T  P  P  P  P  Q  P  I  P  T  G  A  A  A\n",
      "ctcgatcctaccgacgtcactcctcctcctcctcagcctattcccaccggtgccgccgca   65 %\n",
      "gagctaggatggctgcagtgaggaggaggaggagtcggataagggtggccacggcggcgt\n",
      "E  I  R  G  V  D  S  R  R  R  R  L  R  N  G  G  T  G  G  C \n",
      " R  D  *  R  R  *  E  E  E  E  E  A  *  E  W  R  H  R  R  L\n",
      "  S  G  V  S  T  V  G  G  G  G  *  G  I  G  V  P  A  A  A  V\n",
      "\n",
      "181/61\n",
      "  H  H  A  S  G  I  Q  S  L  R  F  S  F  P  C  P  K  E  Y  D\n",
      " P  P  C  Q  R  N  P  I  L  T  F  L  L  P  L  P  Q  G  I  R\n",
      "T  T  M  P  A  E  S  N  P  Y  V  S  P  S  P  A  P  R  N  T\n",
      "accaccatgccagcggaatccaatccttacgtttctccttcccctgccccaaggaatacg   55 %\n",
      "tggtggtacggtcgccttaggttaggaatgcaaagaggaaggggacggggttccttatgc\n",
      "G  G  H  W  R  F  G  I  R  V  N  R  R  G  R  G  W  P  I  R \n",
      " W  W  A  L  P  I  W  D  K  R  K  E  K  G  Q  G  L  S  Y  S\n",
      "  V  M  G  A  S  D  L  G  *  T  E  G  E  G  A  G  L  F  V  I\n",
      "\n",
      "241/81\n",
      "  G  F  G  E  G  Y  V  R  E  M  G  E  N  G  C  R  R  H  Q  E\n",
      " W  I  R  *  R  I  R  *  G  N  G  G  K  W  L  P  T  P  P  R\n",
      "M  D  S  V  K  D  T  L  G  K  W  G  K  M  A  A  D  A  T  K\n",
      "atggattcggtgaaggatacgttagggaaatgggggaaaatggctgccgacgccaccaag   53 %\n",
      "tacctaagccacttcctatgcaatccctttacccccttttaccgacggctgcggtggttc\n",
      "H  I  R  H  L  I  R  *  P  F  P  P  F  H  S  G  V  G  G  L \n",
      " P  N  P  S  P  Y  T  L  S  I  P  S  F  P  Q  R  R  W  W  S\n",
      "  S  E  T  F  S  V  N  P  F  H  P  F  I  A  A  S  A  V  L  F\n",
      "\n",
      "301/101\n",
      "  G  G  G  S  R  R  K  F  L  A  A  L  E  N  R  P  K  C  S  R\n",
      " R  R  R  I  S  P  E  I  F  G  S  T  *  K  Q  A  Q  V  *  P\n",
      "K  A  E  D  L  A  G  N  F  W  Q  H  L  K  T  G  P  S  V  A\n",
      "aaggcggaggatctcgccggaaatttttggcagcacttgaaaacaggcccaagtgtagcc   53 %\n",
      "ttccgcctcctagagcggcctttaaaaaccgtcgtgaacttttgtccgggttcacatcgg\n",
      "L  R  L  I  E  G  S  I  K  P  L  V  Q  F  C  A  W  T  Y  G \n",
      " P  P  P  D  R  R  F  N  K  A  A  S  S  F  L  G  L  H  L  R\n",
      "  A  S  S  R  A  P  F  K  Q  C  C  K  F  V  P  G  L  T  A  S\n",
      "\n",
      "361/121\n",
      "  C  C  C  F  T  N  C  S  G  D  K  N  T  C  R  G  W  I  R  K\n",
      " M  L  L  F  H  E  L  L  R  G  Q  K  Y  L  Q  R  V  D  T  K\n",
      "D  A  A  V  S  R  I  A  Q  G  T  K  I  L  A  E  G  G  Y  E\n",
      "gatgctgctgtttcacgaattgctcaggggacaaaaatacttgcagagggtggatacgaa   46 %\n",
      "ctacgacgacaaagtgcttaacgagtcccctgtttttatgaacgtctcccacctatgctt\n",
      "I  S  S  N  *  S  N  S  L  P  C  F  Y  K  C  L  T  S  V  F \n",
      " H  Q  Q  K  V  F  Q  E  P  S  L  F  V  Q  L  P  H  I  R  F\n",
      "  A  A  T  E  R  I  A  *  P  V  F  I  S  A  S  P  P  Y  S  F\n",
      "\n",
      "421/141\n",
      "  G  L  Q  A  N  I  *  L  P  S  *  *  K  T  S  Q  D  L  C  L\n",
      " R  S  S  S  K  H  L  I  A  F  L  M  K  N  F  S  R  P  M  L\n",
      "K  V  F  K  Q  T  F  D  C  L  P  D  E  K  L  L  K  T  Y  A\n",
      "aaggtcttcaagcaaacatttgattgccttcctgatgaaaaacttctcaagacctatgct   38 %\n",
      "ttccagaagttcgtttgtaaactaacggaaggactactttttgaagagttctggatacga\n",
      "L  D  E  L  L  C  K  I  A  K  R  I  F  F  K  E  L  G  I  S \n",
      " P  R  *  A  F  M  Q  N  G  E  Q  H  F  V  E  *  S  R  H  K\n",
      "  T  K  L  C  V  N  S  Q  R  G  S  S  F  S  R  L  V  *  A  Q\n",
      "\n",
      "481/161\n",
      "  L  L  V  Y  I  C  W  S  C  P  G  S  Y  V  S  F  D  S  Q  A\n",
      " A  T  C  L  H  L  L  V  L  S  W  E  L  C  I  F  R  L  T  S\n",
      "C  Y  L  S  T  S  A  G  P  V  L  G  V  M  Y  L  S  T  H  K\n",
      "tgctacttgtctacatctgctggtcctgtcctgggagttatgtatctttcgactcacaag   46 %\n",
      "acgatgaacagatgtagacgaccaggacaggaccctcaatacatagaaagctgagtgttc\n",
      "A  V  Q  R  C  R  S  T  R  D  Q  S  N  H  I  K  R  S  V  L \n",
      " S  S  T  *  M  Q  Q  D  Q  G  P  L  *  T  D  K  S  E  C  A\n",
      "  *  K  D  V  D  A  P  G  T  R  P  T  I  Y  R  E  V  *  L  S\n",
      "\n",
      "541/181\n",
      "  C  V  L  *  *  Q  S  S  L  L  Q  R  G  *  A  D  P  V  E  L\n",
      " L  R  S  L  V  T  I  L  S  L  T  K  R  V  S  R  P  C  G  A\n",
      "L  A  F  S  S  D  N  P  L  S  Y  K  E  G  E  Q  T  L  W  S\n",
      "cttgcgttctctagtgacaatcctctctcttacaaagagggtgagcagaccctgtggagc   51 %\n",
      "gaacgcaagagatcactgttaggagagagaatgtttctcccactcgtctgggacacctcg\n",
      "K  R  E  R  T  V  I  R  E  R  V  F  L  T  L  L  G  Q  P  A \n",
      " Q  T  R  *  H  C  D  E  R  K  C  L  P  H  A  S  G  T  S  S\n",
      "  A  N  E  L  S  L  G  R  E  *  L  S  P  S  C  V  R  H  L  *\n",
      "\n",
      "601/201\n",
      "  L  Q  G  G  T  S  G  E  S  A  E  G  S  E  P  I  N  K  *  S\n",
      " I  T  R  W  Y  F  R  R  I  S  *  R  Q  *  T  H  Q  Q  V  E\n",
      "Y  Y  K  V  V  L  P  A  N  Q  L  K  A  V  N  P  S  T  S  R\n",
      "tattacaaggtggtacttccggcgaatcagctgaaggcagtgaacccatcaacaagtaga   46 %\n",
      "ataatgttccaccatgaaggccgcttagtcgacttccgtcacttgggtagttgttcatct\n",
      "I  V  L  H  Y  K  R  R  I  L  Q  L  C  H  V  W  *  C  T  S \n",
      " N  C  P  P  V  E  P  S  D  A  S  P  L  S  G  M  L  L  Y  L\n",
      "  *  L  T  T  S  G  A  F  *  S  F  A  T  F  G  D  V  L  L  T\n",
      "\n",
      "661/221\n",
      "  E  H  I  *  *  I  H  T  S  D  F  H  R  Q  P  R  V  L  V  Y\n",
      " *  T  H  L  I  N  T  Y  K  *  F  P  S  T  T  T  S  S  G  L\n",
      "V  N  T  S  D  K  Y  I  Q  V  I  S  I  D  N  H  E  F  W  F\n",
      "gtgaacacatctgataaatacatacaagtgatttccatcgacaaccacgagttctggttt   38 %\n",
      "cacttgtgtagactatttatgtatgttcactaaaggtagctgttggtgctcaagaccaaa\n",
      "H  V  C  R  I  F  V  Y  L  H  N  G  D  V  V  V  L  E  P  K \n",
      " S  C  M  Q  Y  I  C  V  L  S  K  W  R  C  G  R  T  R  T  *\n",
      "  F  V  D  S  L  Y  M  C  T  I  E  M  S  L  W  S  N  Q  N  I\n",
      "\n",
      "721/241\n",
      "  G  V  C  D  L  *  K  R  C  E  E  P  S  R  S  G  A  V  T  W\n",
      " W  G  L  *  L  M  K  A  L  *  R  A  F  K  K  R  C  S  H  M\n",
      "M  G  F  V  T  Y  E  S  A  V  K  S  L  Q  E  A  V  Q  S  H\n",
      "atggggtttgtgacttatgaaagcgctgtgaagagccttcaagaagcggtgcagtcacat   48 %\n",
      "taccccaaacactgaatactttcgcgacacttctcggaagttcttcgccacgtcagtgta\n",
      "H  P  K  H  S  I  F  A  S  H  L  A  K  L  F  R  H  L  *  M \n",
      " P  T  Q  S  K  H  F  R  Q  S  S  G  E  L  L  P  A  T  V  H\n",
      "  P  N  T  V  *  S  L  A  T  F  L  R  *  S  A  T  C  D  C  P\n",
      "\n",
      "781/261\n",
      "  S  V  K  V  H  W  Y  K  W  Q  L  L  V  I  L  C  I  N  I  W\n",
      " V  R  E  G  P  L  V  *  M  A  T  L  S  D  I  V  H  *  H  M\n",
      "G  P  *  R  S  T  G  I  N  G  N  S  *  *  Y  C  A  L  T  Y\n",
      "ggtccgtgaaggtccactggtataaatggcaactcttagtgatattgtgcattaacatat   40 %\n",
      "ccaggcacttccaggtgaccatatttaccgttgagaatcactataacacgtaattgtata\n",
      "T  R  S  P  G  S  T  Y  I  A  V  R  L  S  I  T  C  *  C  I \n",
      " D  T  F  T  W  Q  Y  L  H  C  S  K  T  I  N  H  M  L  M  H\n",
      "  G  H  L  D  V  P  I  F  P  L  E  *  H  Y  Q  A  N  V  Y  P\n",
      "\n",
      "841/281\n",
      "  N  S  V  F  *  Y  L  I  P  F  Q  C  V  L  H  F  V  L  L  A\n",
      " E  Q  C  V  L  V  F  D  T  I  S  M  C  S  T  F  C  P  L  G\n",
      "G  T  V  C  F  S  I  *  Y  H  F  N  V  F  Y  I  L  S  S  W\n",
      "ggaacagtgtgttttagtatttgataccatttcaatgtgttctacattttgtcctcttgg   35 %\n",
      "ccttgtcacacaaaatcataaactatggtaaagttacacaagatgtaaaacaggagaacc\n",
      "S  C  H  T  K  T  N  S  V  M  E  I  H  E  V  N  Q  G  R  P \n",
      " F  L  T  N  *  Y  K  I  G  N  *  H  T  R  C  K  T  R  K  A\n",
      "  V  T  H  K  L  I  Q  Y  W  K  L  T  N  *  M  K  D  E  Q  R\n",
      "\n",
      "901/301\n",
      "  F  T  H  K  H  C  F  C  S  F  P  F  V  *  N  V  F  F  V  L\n",
      " V  Y  S  *  T  L  L  L  F  I  S  F  C  I  K  C  L  L  C  S\n",
      "R  L  L  I  N  I  A  F  V  H  F  L  L  Y  K  M  S  S  L  F\n",
      "cgtttactcataaacattgcttttgttcatttccttttgtataaaatgtcttctttgttc   28 %\n",
      "gcaaatgagtatttgtaacgaaaacaagtaaaggaaaacatattttacagaagaaacaag\n",
      "T  *  E  Y  V  N  S  K  N  M  E  K  Q  I  F  H  R  R  Q  E \n",
      " N  V  *  L  C  Q  K  Q  E  N  G  K  T  Y  F  T  K  K  T  R\n",
      "  K  S  M  F  M  A  K  T  *  K  R  K  Y  L  I  D  E  K  N  *\n",
      "\n",
      "961/321\n",
      "  K  K  K  K  K  K  K\n",
      " K  K  K  K  K  K  K  K\n",
      "*  K  K  K  K  K  K  K\n",
      "taaaaaaaaaaaaaaaaaaaaaaaa    0 %\n",
      "atttttttttttttttttttttttt\n",
      "L  F  F  F  F  F  F  F \n",
      " F  F  F  F  F  F  F  F\n",
      "  F  F  F  F  F  F  F\n",
      "\n",
      "\n"
     ]
    }
   ],
   "source": [
    "# Print six frame translations\n",
    "translated = SeqUtils.six_frame_translations(record.seq)\n",
    "print(translated)"
   ]
  },
  {
   "cell_type": "code",
   "execution_count": 31,
   "metadata": {},
   "outputs": [
    {
     "name": "stderr",
     "output_type": "stream",
     "text": [
      "/Users/12345/anaconda/envs/py3k/lib/python3.5/site-packages/Bio/Seq.py:2071: BiopythonWarning: Partial codon, len(sequence) not a multiple of three. Explicitly trim the sequence or add trailing N before translation. This may become an error in future.\n",
      "  BiopythonWarning)\n"
     ]
    },
    {
     "data": {
      "text/plain": [
       "Seq('HQIMSGQENHDHGRISSTPAAASEPSKAAAHSSDYAPYPKLDPTDVTPPPPQPI...HGP', ExtendedIUPACProtein())"
      ]
     },
     "execution_count": 31,
     "metadata": {},
     "output_type": "execute_result"
    }
   ],
   "source": [
    "# For a specific translation use\n",
    "Seq.translate(record.seq, to_stop=True)"
   ]
  },
  {
   "cell_type": "code",
   "execution_count": 29,
   "metadata": {
    "collapsed": true
   },
   "outputs": [],
   "source": [
    "Seq.translate?"
   ]
  },
  {
   "cell_type": "code",
   "execution_count": null,
   "metadata": {
    "collapsed": true
   },
   "outputs": [],
   "source": []
  }
 ],
 "metadata": {
  "kernelspec": {
   "display_name": "Python [conda env:py3k]",
   "language": "python",
   "name": "conda-env-py3k-py"
  },
  "language_info": {
   "codemirror_mode": {
    "name": "ipython",
    "version": 3
   },
   "file_extension": ".py",
   "mimetype": "text/x-python",
   "name": "python",
   "nbconvert_exporter": "python",
   "pygments_lexer": "ipython3",
   "version": "3.5.4"
  }
 },
 "nbformat": 4,
 "nbformat_minor": 2
}
