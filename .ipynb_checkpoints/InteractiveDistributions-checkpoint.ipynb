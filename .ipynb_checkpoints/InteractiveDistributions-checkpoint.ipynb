{
 "cells": [
  {
   "cell_type": "markdown",
   "metadata": {},
   "source": [
    "<a id=\"Top\"></a>"
   ]
  },
  {
   "cell_type": "markdown",
   "metadata": {},
   "source": [
    "# Interactive Distributions\n",
    "## By J. Lucas Boatwright\n",
    "\n",
    "    Frustrated with the need to visualize distributions interactively, I've generate this ipython notebook. \n",
    "    This script includes common distributions with their corresponding parameters displayed in interactive\n",
    "    plots. Parameter ranges were selected based upon informative ranges.\n",
    "    \n",
    "    Probability mass functions (PMF) are plotted using bar graphs.\n",
    "    \n",
    "    Probability density functions (PDF) are plotted using a continuous line. \n",
    "    \n",
    "## Discrete\n",
    "    \n",
    "1. [Bernoulli](#Bernoulli)\n",
    "\n",
    "2. [Binomial](#Binomial)\n",
    "\n",
    "3. [Negative Binomial](#Negative_Binomial)\n",
    "\n",
    "4. [Poisson](#Poisson)\n",
    "\n",
    "5. [Geometric](#Geometric)\n",
    "\n",
    "6. [Hypergeometric](#Hypergeometric)\n",
    "\n",
    "## Continuous\n",
    "\n",
    "1. [Beta](#Beta)\n",
    "\n",
    "2. [Gamma](#Gamma)\n",
    "\n",
    "3. [Exponential](#Exponential)\n",
    "\n",
    "4. [Laplace](#Laplace)\n",
    "\n",
    "5. [Normal](#Normal)\n",
    "\n",
    "6. [T](#T)\n",
    "\n",
    "7. [Cauchy](#Cauchy)\n",
    "\n",
    "8. [F](#F)\n",
    "\n",
    "9. [Chi Squared](#ChiSquared)\n",
    "\n",
    "10. [Power law](#Powerlaw)\n",
    "\n"
   ]
  },
  {
   "cell_type": "code",
   "execution_count": 2,
   "metadata": {},
   "outputs": [],
   "source": [
    "%matplotlib inline\n",
    "import matplotlib.pyplot as plt\n",
    "import numpy as np\n",
    "from ipywidgets import interact\n",
    "from scipy import stats"
   ]
  },
  {
   "cell_type": "markdown",
   "metadata": {},
   "source": [
    "## Discrete"
   ]
  },
  {
   "cell_type": "markdown",
   "metadata": {},
   "source": [
    "<a id=\"Bernoulli\"></a>"
   ]
  },
  {
   "cell_type": "code",
   "execution_count": 3,
   "metadata": {},
   "outputs": [
    {
     "data": {
      "application/vnd.jupyter.widget-view+json": {
       "model_id": "2832bb54d28f4d1f9a42330519ca855f",
       "version_major": 2,
       "version_minor": 0
      },
      "text/plain": [
       "interactive(children=(FloatSlider(value=0.0, description='p', max=1.0, step=0.01), Output()), _dom_classes=('w…"
      ]
     },
     "metadata": {},
     "output_type": "display_data"
    },
    {
     "data": {
      "text/plain": [
       "<function __main__.plt_bern(p)>"
      ]
     },
     "execution_count": 3,
     "metadata": {},
     "output_type": "execute_result"
    }
   ],
   "source": [
    "def plt_bern(p):\n",
    "    \"\"\"Plot a Bernoulli distribution given p (probability of success)\"\"\"\n",
    "    x = np.arange(-4, 4, 0.5)\n",
    "    plt.bar(x, stats.bernoulli.pmf(x, p))\n",
    "    plt.show()\n",
    "\n",
    "interact( plt_bern, p = (0, 1, 0.01) )"
   ]
  },
  {
   "cell_type": "markdown",
   "metadata": {},
   "source": [
    "<a id=\"Binomial\"></a>\n"
   ]
  },
  {
   "cell_type": "code",
   "execution_count": 4,
   "metadata": {},
   "outputs": [
    {
     "data": {
      "application/vnd.jupyter.widget-view+json": {
       "model_id": "55472a91034d43939f7d390a2c2f81d2",
       "version_major": 2,
       "version_minor": 0
      },
      "text/plain": [
       "interactive(children=(IntSlider(value=25, description='n', max=50), FloatSlider(value=0.0, description='p', ma…"
      ]
     },
     "metadata": {},
     "output_type": "display_data"
    },
    {
     "data": {
      "text/plain": [
       "<function __main__.plt_binom(n, p)>"
      ]
     },
     "execution_count": 4,
     "metadata": {},
     "output_type": "execute_result"
    }
   ],
   "source": [
    "def plt_binom(n, p):\n",
    "    \"\"\"Plot a binomial distribution given n (number of trials) and p (probability of success)\"\"\"\n",
    "    x = np.arange(0, 50, 1)\n",
    "    plt.bar(x, stats.binom.pmf(x, n, p))\n",
    "    plt.show()\n",
    "\n",
    "interact( plt_binom, n = (0, 50, 1), p = (0, 1, 0.01) )"
   ]
  },
  {
   "cell_type": "markdown",
   "metadata": {},
   "source": [
    "<a id=\"Negative_Binomial\"></a>\n"
   ]
  },
  {
   "cell_type": "code",
   "execution_count": 5,
   "metadata": {},
   "outputs": [
    {
     "data": {
      "application/vnd.jupyter.widget-view+json": {
       "model_id": "fb5f81d51fa24f82b0f6dac79ab4a392",
       "version_major": 2,
       "version_minor": 0
      },
      "text/plain": [
       "interactive(children=(IntSlider(value=50, description='n'), FloatSlider(value=0.5, description='p', max=1.0, m…"
      ]
     },
     "metadata": {},
     "output_type": "display_data"
    },
    {
     "data": {
      "text/plain": [
       "<function __main__.plt_nbinom(n, p)>"
      ]
     },
     "execution_count": 5,
     "metadata": {},
     "output_type": "execute_result"
    }
   ],
   "source": [
    "def plt_nbinom(n, p):\n",
    "    \"\"\"Plot a negative binomial distribution given n (number of trials) and p (probability of success)\"\"\"\n",
    "    x = np.arange(0, 100, 1)\n",
    "    plt.bar(x, stats.nbinom.pmf(x, n, p))\n",
    "    plt.show()\n",
    "\n",
    "interact( plt_nbinom, n = (0, 100, 1), p = (0.01, 1, 0.01) )"
   ]
  },
  {
   "cell_type": "markdown",
   "metadata": {},
   "source": [
    "<a id=\"Poisson\"></a>\n"
   ]
  },
  {
   "cell_type": "code",
   "execution_count": 6,
   "metadata": {},
   "outputs": [
    {
     "data": {
      "application/vnd.jupyter.widget-view+json": {
       "model_id": "c132a29847dd49c1affc9a9426c2c137",
       "version_major": 2,
       "version_minor": 0
      },
      "text/plain": [
       "interactive(children=(FloatSlider(value=25.0, description='_lambda', max=50.0, min=0.5, step=0.5), Output()), …"
      ]
     },
     "metadata": {},
     "output_type": "display_data"
    },
    {
     "data": {
      "text/plain": [
       "<function __main__.plt_poisson(_lambda)>"
      ]
     },
     "execution_count": 6,
     "metadata": {},
     "output_type": "execute_result"
    }
   ],
   "source": [
    "def plt_poisson(_lambda):\n",
    "    \"\"\"Plot a poisson distribution given a lambda value.\"\"\"\n",
    "    x = np.arange(0, 100, 1)\n",
    "    plt.bar(x, stats.poisson.pmf(x, _lambda))\n",
    "    plt.show()\n",
    "\n",
    "interact( plt_poisson, _lambda = (0.5, 50, 0.5 ))"
   ]
  },
  {
   "cell_type": "markdown",
   "metadata": {},
   "source": [
    "<a id=\"Geometric\"></a>\n"
   ]
  },
  {
   "cell_type": "code",
   "execution_count": 7,
   "metadata": {},
   "outputs": [
    {
     "data": {
      "application/vnd.jupyter.widget-view+json": {
       "model_id": "65d57f3435bc4110943439f1527605b3",
       "version_major": 2,
       "version_minor": 0
      },
      "text/plain": [
       "interactive(children=(FloatSlider(value=0.5, description='k', max=1.0, min=0.1), Output()), _dom_classes=('wid…"
      ]
     },
     "metadata": {},
     "output_type": "display_data"
    },
    {
     "data": {
      "text/plain": [
       "<function __main__.plt_geom(k)>"
      ]
     },
     "execution_count": 7,
     "metadata": {},
     "output_type": "execute_result"
    }
   ],
   "source": [
    "def plt_geom(k):\n",
    "    \"\"\"Plot a geometric distribution\"\"\"\n",
    "    x = np.arange(0, 50, 1)\n",
    "    plt.bar(x, stats.geom.pmf(x, k))\n",
    "    plt.show()\n",
    "\n",
    "interact( plt_geom, k = (0.1, 1, 0.1))"
   ]
  },
  {
   "cell_type": "markdown",
   "metadata": {},
   "source": [
    "<a id=\"Hypergeometric\"></a>\n"
   ]
  },
  {
   "cell_type": "code",
   "execution_count": 7,
   "metadata": {},
   "outputs": [
    {
     "data": {
      "application/vnd.jupyter.widget-view+json": {
       "model_id": "f68e75f81c1b462183ac6b93b095415f"
      }
     },
     "metadata": {},
     "output_type": "display_data"
    },
    {
     "data": {
      "text/plain": [
       "<function __main__.plt_hypergeom>"
      ]
     },
     "execution_count": 7,
     "metadata": {},
     "output_type": "execute_result"
    }
   ],
   "source": [
    "def plt_hypergeom(M, n, N):\n",
    "    \"\"\"Plot a hypergeometric distribution. Suppose we have a collection of 'M' marbles, \n",
    "    of which 'N' are blue. Then, the hypergeometric distribution describes the probability \n",
    "    of finding a given number of blue marbles if we choose at random 'n' of the 'M' marbles\"\"\"\n",
    "    x = np.arange(0, 50, 1)\n",
    "    plt.bar(x, stats.hypergeom.pmf(x, M, n, N))\n",
    "    plt.show()\n",
    "\n",
    "interact( plt_hypergeom, M = (60, 100, 1), n = (1, 50, 1), N = (51, 59, 1))"
   ]
  },
  {
   "cell_type": "markdown",
   "metadata": {},
   "source": [
    "## Continuous Distributions"
   ]
  },
  {
   "cell_type": "markdown",
   "metadata": {},
   "source": [
    "<a id=\"Beta\"></a>\n"
   ]
  },
  {
   "cell_type": "code",
   "execution_count": 8,
   "metadata": {},
   "outputs": [
    {
     "data": {
      "application/vnd.jupyter.widget-view+json": {
       "model_id": "9022bed450e049d9bc835ad221f87078"
      }
     },
     "metadata": {},
     "output_type": "display_data"
    },
    {
     "data": {
      "text/plain": [
       "<function __main__.plt_beta>"
      ]
     },
     "execution_count": 8,
     "metadata": {},
     "output_type": "execute_result"
    }
   ],
   "source": [
    "def plt_beta(a, b):\n",
    "    \"\"\"Plot a beta distribution given shape parameters a and b.\n",
    "    Values of interest: a = b = 0.5\n",
    "                        a = b = 1\n",
    "                        \"\"\"\n",
    "    x = np.arange(0, 1, 0.01)\n",
    "    plt.plot(x, stats.beta.pdf(x, a, b))\n",
    "    plt.show()\n",
    "\n",
    "interact(plt_beta, a=(0.5, 50, 0.5), b=(0.5,50, 0.5))"
   ]
  },
  {
   "cell_type": "markdown",
   "metadata": {},
   "source": [
    "<a id=\"Gamma\"></a>\n"
   ]
  },
  {
   "cell_type": "code",
   "execution_count": 9,
   "metadata": {},
   "outputs": [
    {
     "data": {
      "application/vnd.jupyter.widget-view+json": {
       "model_id": "05a0704d45614e1aad743fa634a660be"
      }
     },
     "metadata": {},
     "output_type": "display_data"
    },
    {
     "data": {
      "text/plain": [
       "<function __main__.plt_gamma>"
      ]
     },
     "execution_count": 9,
     "metadata": {},
     "output_type": "execute_result"
    }
   ],
   "source": [
    "def plt_gamma(shape, scale):\n",
    "    \"\"\"Plot a gamma distribution using shape and scale parameters\"\"\"\n",
    "    x = np.arange(0, 100, 0.1)\n",
    "    plt.plot(x, stats.gamma.pdf(x, shape, scale=scale))\n",
    "    plt.show()\n",
    "\n",
    "interact( plt_gamma, shape = (0.1, 20, 0.1 ), scale = (0.1, 20, 0.1 ))"
   ]
  },
  {
   "cell_type": "markdown",
   "metadata": {},
   "source": [
    "<a id=\"Exponential\"></a>"
   ]
  },
  {
   "cell_type": "code",
   "execution_count": 10,
   "metadata": {},
   "outputs": [
    {
     "data": {
      "application/vnd.jupyter.widget-view+json": {
       "model_id": "14a273d459344b77a172685b60722383"
      }
     },
     "metadata": {},
     "output_type": "display_data"
    },
    {
     "data": {
      "text/plain": [
       "<function __main__.plt_expon>"
      ]
     },
     "execution_count": 10,
     "metadata": {},
     "output_type": "execute_result"
    }
   ],
   "source": [
    "def plt_expon(scale):\n",
    "    \"\"\"Plot a Exponential distribution using fixed quantiles and adjustable scale parameters\"\"\"\n",
    "    x = np.linspace(stats.expon.ppf(0.01),\n",
    "                    stats.expon.ppf(0.99), 100)\n",
    "    plt.plot(x, stats.expon.pdf(x, scale=scale))\n",
    "    plt.show()\n",
    "\n",
    "interact( plt_expon, scale = (0.1, 10, 0.2 ))"
   ]
  },
  {
   "cell_type": "markdown",
   "metadata": {},
   "source": [
    "<a id=\"Laplace\"></a>"
   ]
  },
  {
   "cell_type": "code",
   "execution_count": 11,
   "metadata": {},
   "outputs": [
    {
     "data": {
      "application/vnd.jupyter.widget-view+json": {
       "model_id": "ac7e5a9b1ee94222b3d30f870955ba83"
      }
     },
     "metadata": {},
     "output_type": "display_data"
    },
    {
     "data": {
      "text/plain": [
       "<function __main__.plt_laplace>"
      ]
     },
     "execution_count": 11,
     "metadata": {},
     "output_type": "execute_result"
    }
   ],
   "source": [
    "def plt_laplace(scale):\n",
    "    \"\"\"Plot a Laplace distribution using fixed quantiles and adjustable scale parameters.\n",
    "    The Laplace distribution is a double exponential, which should be evident from the graph.\"\"\"\n",
    "    x = np.linspace(stats.laplace.ppf(0.01),\n",
    "                    stats.laplace.ppf(0.99), 100)\n",
    "    plt.plot(x, stats.laplace.pdf(x, scale=scale))\n",
    "    plt.show()\n",
    "\n",
    "interact( plt_laplace, scale = (0.1, 10, 0.2 ))"
   ]
  },
  {
   "cell_type": "markdown",
   "metadata": {},
   "source": [
    "<a id=\"Normal\"></a>\n"
   ]
  },
  {
   "cell_type": "code",
   "execution_count": 12,
   "metadata": {},
   "outputs": [
    {
     "data": {
      "application/vnd.jupyter.widget-view+json": {
       "model_id": "d08b8b7965ed465aa04e87cba70af956"
      }
     },
     "metadata": {},
     "output_type": "display_data"
    },
    {
     "data": {
      "text/plain": [
       "<function __main__.plt_norm>"
      ]
     },
     "execution_count": 12,
     "metadata": {},
     "output_type": "execute_result"
    }
   ],
   "source": [
    "def plt_norm(mean, stdev):\n",
    "    \"\"\"Plot a normal distribution given mean and standard deviation\"\"\"\n",
    "    x = np.arange(-200, 200, 0.1)\n",
    "    plt.plot(x, stats.norm.pdf(x, loc=mean, scale=stdev))\n",
    "    plt.show()\n",
    "\n",
    "interact( plt_norm, mean = (-50, 50, 0.1 ), stdev = (0.1,100,0.1))"
   ]
  },
  {
   "cell_type": "markdown",
   "metadata": {},
   "source": [
    "<a id=\"T\"></a>\n"
   ]
  },
  {
   "cell_type": "code",
   "execution_count": 13,
   "metadata": {},
   "outputs": [
    {
     "data": {
      "application/vnd.jupyter.widget-view+json": {
       "model_id": "ebc462f0ea994de39071956c907d62d6"
      }
     },
     "metadata": {},
     "output_type": "display_data"
    },
    {
     "data": {
      "text/plain": [
       "<function __main__.plt_t>"
      ]
     },
     "execution_count": 13,
     "metadata": {},
     "output_type": "execute_result"
    }
   ],
   "source": [
    "def plt_t(df, scale):\n",
    "    \"\"\"Plot a T distribution given degrees of freedom (df)\"\"\"\n",
    "    x = np.arange(-10, 10, 0.1)\n",
    "    plt.plot(x, stats.t.pdf(x, df=df, loc=0, scale=scale))\n",
    "    plt.show()\n",
    "\n",
    "interact( plt_t, df = (1, 100, 1 ), scale = (1, 10, 0.1))"
   ]
  },
  {
   "cell_type": "markdown",
   "metadata": {},
   "source": [
    "<a id=\"Cauchy\"></a>"
   ]
  },
  {
   "cell_type": "code",
   "execution_count": 14,
   "metadata": {},
   "outputs": [
    {
     "data": {
      "application/vnd.jupyter.widget-view+json": {
       "model_id": "7b8554e4673d4af49d36664c4c0c2390"
      }
     },
     "metadata": {},
     "output_type": "display_data"
    },
    {
     "data": {
      "text/plain": [
       "<function __main__.plt_cauchy>"
      ]
     },
     "execution_count": 14,
     "metadata": {},
     "output_type": "execute_result"
    }
   ],
   "source": [
    "def plt_cauchy(scale):\n",
    "    \"\"\"Plot a Cauchy distribution given fixed quantiles and adjustable scale\"\"\"\n",
    "    x = np.linspace(stats.cauchy.ppf(0.01),\n",
    "                    stats.cauchy.ppf(0.99), 100)\n",
    "    plt.plot(x, stats.cauchy.pdf(x, loc=0, scale=scale))\n",
    "    plt.show()\n",
    "\n",
    "interact( plt_cauchy, scale = (1, 10, 0.1))"
   ]
  },
  {
   "cell_type": "markdown",
   "metadata": {},
   "source": [
    "<a id=\"F\"></a>\n"
   ]
  },
  {
   "cell_type": "code",
   "execution_count": 15,
   "metadata": {},
   "outputs": [
    {
     "data": {
      "application/vnd.jupyter.widget-view+json": {
       "model_id": "50579dda6b664ea18bf90167cfe02d0a"
      }
     },
     "metadata": {},
     "output_type": "display_data"
    },
    {
     "data": {
      "text/plain": [
       "<function __main__.plt_f>"
      ]
     },
     "execution_count": 15,
     "metadata": {},
     "output_type": "execute_result"
    }
   ],
   "source": [
    "def plt_f(dfn, dfd):\n",
    "    \"\"\"Plot an F distribution given numerator degrees of freedom (dfn) \n",
    "    and denominator degrees of freedom (dfd)\"\"\"\n",
    "    x = np.arange(0.1, 5, 0.1)\n",
    "    plt.plot(x, stats.f.pdf(x, dfn=dfn, dfd=dfd))\n",
    "    plt.show()\n",
    "\n",
    "interact( plt_f, dfn = (1, 100, 1 ), dfd = (1, 100, 1))"
   ]
  },
  {
   "cell_type": "markdown",
   "metadata": {},
   "source": [
    "<a id=\"ChiSquared\"></a>\n"
   ]
  },
  {
   "cell_type": "code",
   "execution_count": 16,
   "metadata": {},
   "outputs": [
    {
     "data": {
      "application/vnd.jupyter.widget-view+json": {
       "model_id": "f347c374ba8b4a609a07db13466e5b5f"
      }
     },
     "metadata": {},
     "output_type": "display_data"
    },
    {
     "data": {
      "text/plain": [
       "<function __main__.plt_chisq>"
      ]
     },
     "execution_count": 16,
     "metadata": {},
     "output_type": "execute_result"
    }
   ],
   "source": [
    "def plt_chisq(df):\n",
    "    \"\"\"Plot an F distribution given numerator degrees of freedom (dfn) \n",
    "    and denominator degrees of freedom (dfd)\"\"\"\n",
    "    x = np.arange(0.1, 100, 0.1)\n",
    "    plt.plot(x, stats.chi2.pdf(x, df=df))\n",
    "    plt.show()\n",
    "\n",
    "interact( plt_chisq, df = (1, 100, 1 ))"
   ]
  },
  {
   "cell_type": "markdown",
   "metadata": {},
   "source": [
    "<a id=\"Powerlaw\"></a>\n"
   ]
  },
  {
   "cell_type": "code",
   "execution_count": 17,
   "metadata": {},
   "outputs": [
    {
     "data": {
      "application/vnd.jupyter.widget-view+json": {
       "model_id": "78a69c99089b4b64afd113bc40a17e46"
      }
     },
     "metadata": {},
     "output_type": "display_data"
    },
    {
     "data": {
      "text/plain": [
       "<function __main__.plt_powerlaw>"
      ]
     },
     "execution_count": 17,
     "metadata": {},
     "output_type": "execute_result"
    }
   ],
   "source": [
    "def plt_powerlaw(a):\n",
    "    \"\"\"Plot a power-law distribution given a\"\"\"\n",
    "    x = np.arange(0, 1, 0.01)\n",
    "    plt.plot(x, stats.powerlaw.pdf(x, a))\n",
    "    plt.show()\n",
    "\n",
    "interact(plt_powerlaw, a=(1, 20, 0.1))"
   ]
  },
  {
   "cell_type": "markdown",
   "metadata": {},
   "source": [
    "[Back to top](#Top)"
   ]
  }
 ],
 "metadata": {
  "kernelspec": {
   "display_name": "Python 3",
   "language": "python",
   "name": "python3"
  },
  "language_info": {
   "codemirror_mode": {
    "name": "ipython",
    "version": 3
   },
   "file_extension": ".py",
   "mimetype": "text/x-python",
   "name": "python",
   "nbconvert_exporter": "python",
   "pygments_lexer": "ipython3",
   "version": "3.6.5"
  }
 },
 "nbformat": 4,
 "nbformat_minor": 2
}
